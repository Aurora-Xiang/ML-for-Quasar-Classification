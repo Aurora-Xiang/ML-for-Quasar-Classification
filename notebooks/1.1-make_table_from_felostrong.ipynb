{
 "cells": [
  {
   "cell_type": "code",
   "execution_count": 5,
   "id": "3edd01ec",
   "metadata": {
    "ExecuteTime": {
     "end_time": "2023-04-04T07:11:31.648764Z",
     "start_time": "2023-04-04T07:11:31.639142Z"
    }
   },
   "outputs": [],
   "source": [
    "%matplotlib inline\n",
    "import pandas as pd\n",
    "from astropy.table import Table\n",
    "import numpy as np\n",
    "from scipy import stats\n",
    "from sklearn.model_selection import train_test_split\n",
    "import shutil\n",
    "from pathlib import Path\n",
    "import matplotlib.pyplot as plt\n",
    "from astropy.io import fits\n",
    "from specbox import SpecSDSS\n",
    "import multiprocessing"
   ]
  },
  {
   "cell_type": "code",
   "execution_count": 2,
   "id": "6335297a",
   "metadata": {
    "ExecuteTime": {
     "end_time": "2023-04-04T06:43:23.596778Z",
     "start_time": "2023-04-04T06:43:23.592079Z"
    }
   },
   "outputs": [],
   "source": [
    "def sdss_spname(plate, mjd, fiberid):\n",
    "#     if plate <= 2975:\n",
    "#         plate = '{:0>4}'.format(plate)\n",
    "    filename = 'spec-{:0>4}-{}-{:0>4}.fits'.format(plate, mjd, fiberid)\n",
    "    return filename"
   ]
  },
  {
   "cell_type": "code",
   "execution_count": 11,
   "id": "bdfb4df6",
   "metadata": {
    "ExecuteTime": {
     "end_time": "2023-04-04T06:58:53.902425Z",
     "start_time": "2023-04-04T06:58:53.896382Z"
    }
   },
   "outputs": [],
   "source": [
    "new_wave = np.linspace(2000, 3199, num=1200) * u.AA \n",
    "\n",
    "def spectransform(filename, z):\n",
    "    try:\n",
    "        sp = SpecSDSS(filename)\n",
    "        sp.to_restframe(z, inplace=True)\n",
    "        sp.trim([1950, 3250])\n",
    "        sp.flux_conserve_resample(new_wave, True)\n",
    "        idx = np.isnan(sp.flux.value)\n",
    "        sp.flux.value[idx] = np.nanmedian(sp.flux.value)\n",
    "        sp.smooth(5, 3, inplace=True, plot=False)\n",
    "        f_norm = stats.zscore(sp.spec.flux.value)\n",
    "    except:\n",
    "        f_norm = np.zeros(1200)\n",
    "    return f_norm"
   ]
  },
  {
   "cell_type": "code",
   "execution_count": 7,
   "id": "f8ef1a35",
   "metadata": {},
   "outputs": [
    {
     "data": {
      "text/plain": [
       "(1200,)"
      ]
     },
     "execution_count": 7,
     "metadata": {},
     "output_type": "execute_result"
    }
   ],
   "source": [
    "np.zeros(1200).shape"
   ]
  },
  {
   "cell_type": "markdown",
   "id": "b2e1fac6",
   "metadata": {
    "ExecuteTime": {
     "end_time": "2023-04-04T07:09:21.175907Z",
     "start_time": "2023-04-04T07:09:21.042218Z"
    }
   },
   "source": [
    "### Read `felostrong_all.csv` or something similar\n",
    "\n"
   ]
  },
  {
   "cell_type": "code",
   "execution_count": 3,
   "id": "e052d53a",
   "metadata": {
    "ExecuteTime": {
     "end_time": "2023-04-04T07:09:21.652084Z",
     "start_time": "2023-04-04T07:09:21.648952Z"
    }
   },
   "outputs": [],
   "source": [
    "flux_list = []\n",
    "flist = basepath+df.relapath\n",
    "flist = flist[:50]"
   ]
  },
  {
   "cell_type": "code",
   "execution_count": 1,
   "id": "4f633fcb",
   "metadata": {
    "ExecuteTime": {
     "end_time": "2023-04-04T07:03:56.536771Z",
     "start_time": "2023-04-04T07:03:44.344673Z"
    }
   },
   "outputs": [],
   "source": [
    "# from os.path import basename\n",
    "# for i, item in enumerate(flist):\n",
    "#     f_norm = spectransform(item)\n",
    "#     filename = basename(item)\n",
    "#     flux_list.append(f_norm)\n",
    "#     print(\"No. {}: file {} done.\".format(i, filename))"
   ]
  },
  {
   "cell_type": "code",
   "execution_count": 16,
   "id": "0b3c4500",
   "metadata": {},
   "outputs": [
    {
     "data": {
      "text/plain": [
       "array([ 1.2376996,  1.2675174,  1.2771946, ..., -1.5064276, -1.3667287,\n",
       "       -1.4670243], dtype=float32)"
      ]
     },
     "execution_count": 16,
     "metadata": {},
     "output_type": "execute_result"
    }
   ],
   "source": [
    "flux_list[0]"
   ]
  },
  {
   "cell_type": "code",
   "execution_count": 7,
   "id": "427b1365",
   "metadata": {
    "ExecuteTime": {
     "end_time": "2023-04-04T07:07:38.118149Z",
     "start_time": "2023-04-04T07:07:37.899802Z"
    }
   },
   "outputs": [],
   "source": [
    "df = pd.DataFrame(flux_list)"
   ]
  },
  {
   "cell_type": "code",
   "execution_count": 8,
   "id": "f7fc19c4",
   "metadata": {
    "ExecuteTime": {
     "end_time": "2023-04-04T07:07:54.572547Z",
     "start_time": "2023-04-04T07:07:54.563581Z"
    }
   },
   "outputs": [],
   "source": [
    "df['filename'] = flist"
   ]
  },
  {
   "cell_type": "code",
   "execution_count": 9,
   "id": "56df192e",
   "metadata": {
    "ExecuteTime": {
     "end_time": "2023-04-04T07:08:01.125815Z",
     "start_time": "2023-04-04T07:08:01.080598Z"
    }
   },
   "outputs": [
    {
     "data": {
      "text/html": [
       "<div>\n",
       "<style scoped>\n",
       "    .dataframe tbody tr th:only-of-type {\n",
       "        vertical-align: middle;\n",
       "    }\n",
       "\n",
       "    .dataframe tbody tr th {\n",
       "        vertical-align: top;\n",
       "    }\n",
       "\n",
       "    .dataframe thead th {\n",
       "        text-align: right;\n",
       "    }\n",
       "</style>\n",
       "<table border=\"1\" class=\"dataframe\">\n",
       "  <thead>\n",
       "    <tr style=\"text-align: right;\">\n",
       "      <th></th>\n",
       "      <th>filename</th>\n",
       "    </tr>\n",
       "  </thead>\n",
       "  <tbody>\n",
       "  </tbody>\n",
       "</table>\n",
       "</div>"
      ],
      "text/plain": [
       "Empty DataFrame\n",
       "Columns: [filename]\n",
       "Index: []"
      ]
     },
     "execution_count": 9,
     "metadata": {},
     "output_type": "execute_result"
    }
   ],
   "source": [
    "df"
   ]
  },
  {
   "cell_type": "code",
   "execution_count": 17,
   "id": "750fdc6d",
   "metadata": {
    "ExecuteTime": {
     "end_time": "2023-04-04T07:09:42.755725Z",
     "start_time": "2023-04-04T07:09:42.713136Z"
    }
   },
   "outputs": [],
   "source": [
    "df1 = pd.read_csv('./mlFeLo/cnn/spec/train_v3/train_all_bin_p1.csv')"
   ]
  },
  {
   "cell_type": "code",
   "execution_count": 18,
   "id": "2c8e983a",
   "metadata": {
    "ExecuteTime": {
     "end_time": "2023-04-04T07:09:43.103534Z",
     "start_time": "2023-04-04T07:09:43.088204Z"
    }
   },
   "outputs": [
    {
     "data": {
      "text/html": [
       "<div>\n",
       "<style scoped>\n",
       "    .dataframe tbody tr th:only-of-type {\n",
       "        vertical-align: middle;\n",
       "    }\n",
       "\n",
       "    .dataframe tbody tr th {\n",
       "        vertical-align: top;\n",
       "    }\n",
       "\n",
       "    .dataframe thead th {\n",
       "        text-align: right;\n",
       "    }\n",
       "</style>\n",
       "<table border=\"1\" class=\"dataframe\">\n",
       "  <thead>\n",
       "    <tr style=\"text-align: right;\">\n",
       "      <th></th>\n",
       "      <th>Filename</th>\n",
       "      <th>Label</th>\n",
       "      <th>redshift</th>\n",
       "    </tr>\n",
       "  </thead>\n",
       "  <tbody>\n",
       "    <tr>\n",
       "      <th>0</th>\n",
       "      <td>spec-7378-56715-0436.fits</td>\n",
       "      <td>FeLoBAL</td>\n",
       "      <td>2.239379</td>\n",
       "    </tr>\n",
       "    <tr>\n",
       "      <th>1</th>\n",
       "      <td>spec-3763-55508-0990.fits</td>\n",
       "      <td>FeLoBAL</td>\n",
       "      <td>2.315665</td>\n",
       "    </tr>\n",
       "    <tr>\n",
       "      <th>2</th>\n",
       "      <td>spec-3771-55544-0842.fits</td>\n",
       "      <td>FeLoBAL</td>\n",
       "      <td>1.567929</td>\n",
       "    </tr>\n",
       "    <tr>\n",
       "      <th>3</th>\n",
       "      <td>spec-11677-58510-0991.fits</td>\n",
       "      <td>FeLoBAL</td>\n",
       "      <td>1.588018</td>\n",
       "    </tr>\n",
       "    <tr>\n",
       "      <th>4</th>\n",
       "      <td>spec-4014-55630-0880.fits</td>\n",
       "      <td>FeLoBAL</td>\n",
       "      <td>2.244618</td>\n",
       "    </tr>\n",
       "    <tr>\n",
       "      <th>...</th>\n",
       "      <td>...</td>\n",
       "      <td>...</td>\n",
       "      <td>...</td>\n",
       "    </tr>\n",
       "    <tr>\n",
       "      <th>834</th>\n",
       "      <td>spec-5962-56265-0056.fits</td>\n",
       "      <td>Non-FeLoBAL</td>\n",
       "      <td>2.657000</td>\n",
       "    </tr>\n",
       "    <tr>\n",
       "      <th>835</th>\n",
       "      <td>spec-3655-55240-0764.fits</td>\n",
       "      <td>Non-FeLoBAL</td>\n",
       "      <td>2.510000</td>\n",
       "    </tr>\n",
       "    <tr>\n",
       "      <th>836</th>\n",
       "      <td>spec-7107-56740-0512.fits</td>\n",
       "      <td>Non-FeLoBAL</td>\n",
       "      <td>4.015000</td>\n",
       "    </tr>\n",
       "    <tr>\n",
       "      <th>837</th>\n",
       "      <td>spec-5059-56190-0562.fits</td>\n",
       "      <td>Non-FeLoBAL</td>\n",
       "      <td>2.154000</td>\n",
       "    </tr>\n",
       "    <tr>\n",
       "      <th>838</th>\n",
       "      <td>spec-6403-56357-0480.fits</td>\n",
       "      <td>Non-FeLoBAL</td>\n",
       "      <td>3.353000</td>\n",
       "    </tr>\n",
       "  </tbody>\n",
       "</table>\n",
       "<p>839 rows × 3 columns</p>\n",
       "</div>"
      ],
      "text/plain": [
       "                       Filename        Label  redshift\n",
       "0     spec-7378-56715-0436.fits      FeLoBAL  2.239379\n",
       "1     spec-3763-55508-0990.fits      FeLoBAL  2.315665\n",
       "2     spec-3771-55544-0842.fits      FeLoBAL  1.567929\n",
       "3    spec-11677-58510-0991.fits      FeLoBAL  1.588018\n",
       "4     spec-4014-55630-0880.fits      FeLoBAL  2.244618\n",
       "..                          ...          ...       ...\n",
       "834   spec-5962-56265-0056.fits  Non-FeLoBAL  2.657000\n",
       "835   spec-3655-55240-0764.fits  Non-FeLoBAL  2.510000\n",
       "836   spec-7107-56740-0512.fits  Non-FeLoBAL  4.015000\n",
       "837   spec-5059-56190-0562.fits  Non-FeLoBAL  2.154000\n",
       "838   spec-6403-56357-0480.fits  Non-FeLoBAL  3.353000\n",
       "\n",
       "[839 rows x 3 columns]"
      ]
     },
     "execution_count": 18,
     "metadata": {},
     "output_type": "execute_result"
    }
   ],
   "source": [
    "df1"
   ]
  },
  {
   "cell_type": "code",
   "execution_count": 19,
   "id": "2648b76f",
   "metadata": {
    "ExecuteTime": {
     "end_time": "2023-04-04T07:12:31.375522Z",
     "start_time": "2023-04-04T07:12:31.370224Z"
    }
   },
   "outputs": [],
   "source": [
    "fullpath = './mlFeLo/cnn/spec/train_v3/' + df1['Filename']"
   ]
  },
  {
   "cell_type": "code",
   "execution_count": 20,
   "id": "d11a2d47",
   "metadata": {
    "ExecuteTime": {
     "end_time": "2023-04-04T07:13:54.182901Z",
     "start_time": "2023-04-04T07:13:54.173947Z"
    }
   },
   "outputs": [
    {
     "data": {
      "text/plain": [
       "0      ./mlFeLo/cnn/spec/train_v3/spec-7378-56715-043...\n",
       "1      ./mlFeLo/cnn/spec/train_v3/spec-3763-55508-099...\n",
       "2      ./mlFeLo/cnn/spec/train_v3/spec-3771-55544-084...\n",
       "3      ./mlFeLo/cnn/spec/train_v3/spec-11677-58510-09...\n",
       "4      ./mlFeLo/cnn/spec/train_v3/spec-4014-55630-088...\n",
       "                             ...                        \n",
       "834    ./mlFeLo/cnn/spec/train_v3/spec-5962-56265-005...\n",
       "835    ./mlFeLo/cnn/spec/train_v3/spec-3655-55240-076...\n",
       "836    ./mlFeLo/cnn/spec/train_v3/spec-7107-56740-051...\n",
       "837    ./mlFeLo/cnn/spec/train_v3/spec-5059-56190-056...\n",
       "838    ./mlFeLo/cnn/spec/train_v3/spec-6403-56357-048...\n",
       "Name: Filename, Length: 839, dtype: object"
      ]
     },
     "execution_count": 20,
     "metadata": {},
     "output_type": "execute_result"
    }
   ],
   "source": [
    "fullpath"
   ]
  },
  {
   "cell_type": "code",
   "execution_count": 21,
   "id": "ca006521",
   "metadata": {
    "ExecuteTime": {
     "end_time": "2023-04-04T07:14:31.746875Z",
     "start_time": "2023-04-04T07:14:21.333915Z"
    }
   },
   "outputs": [
    {
     "name": "stderr",
     "output_type": "stream",
     "text": [
      "/gpfs/share/home/1900011612/anaconda3/lib/python3.9/site-packages/specbox/basemodule/basemodule.py:308: RuntimeWarning: divide by zero encountered in power\n",
      "  self.err = data['ivar']**-0.5 * 1e-17\n",
      "/gpfs/share/home/1900011612/anaconda3/lib/python3.9/site-packages/specbox/basemodule/basemodule.py:308: RuntimeWarning: divide by zero encountered in power\n",
      "  self.err = data['ivar']**-0.5 * 1e-17\n",
      "/gpfs/share/home/1900011612/anaconda3/lib/python3.9/site-packages/specbox/basemodule/basemodule.py:308: RuntimeWarning: divide by zero encountered in power\n",
      "  self.err = data['ivar']**-0.5 * 1e-17\n",
      "/gpfs/share/home/1900011612/anaconda3/lib/python3.9/site-packages/specbox/basemodule/basemodule.py:308: RuntimeWarning: divide by zero encountered in power\n",
      "  self.err = data['ivar']**-0.5 * 1e-17\n",
      "/gpfs/share/home/1900011612/anaconda3/lib/python3.9/site-packages/specbox/basemodule/basemodule.py:308: RuntimeWarning: divide by zero encountered in power\n",
      "  self.err = data['ivar']**-0.5 * 1e-17\n",
      "/gpfs/share/home/1900011612/anaconda3/lib/python3.9/site-packages/specbox/basemodule/basemodule.py:308: RuntimeWarning: divide by zero encountered in power\n",
      "  self.err = data['ivar']**-0.5 * 1e-17\n",
      "/gpfs/share/home/1900011612/anaconda3/lib/python3.9/site-packages/specbox/basemodule/basemodule.py:308: RuntimeWarning: divide by zero encountered in power\n",
      "  self.err = data['ivar']**-0.5 * 1e-17\n",
      "/gpfs/share/home/1900011612/anaconda3/lib/python3.9/site-packages/specbox/basemodule/basemodule.py:308: RuntimeWarning: divide by zero encountered in power\n",
      "  self.err = data['ivar']**-0.5 * 1e-17\n",
      "/gpfs/share/home/1900011612/anaconda3/lib/python3.9/site-packages/specbox/basemodule/basemodule.py:308: RuntimeWarning: divide by zero encountered in power\n",
      "  self.err = data['ivar']**-0.5 * 1e-17\n",
      "/gpfs/share/home/1900011612/anaconda3/lib/python3.9/site-packages/specbox/basemodule/basemodule.py:308: RuntimeWarning: divide by zero encountered in power\n",
      "  self.err = data['ivar']**-0.5 * 1e-17\n",
      "/gpfs/share/home/1900011612/anaconda3/lib/python3.9/site-packages/specbox/basemodule/basemodule.py:308: RuntimeWarning: divide by zero encountered in power\n",
      "  self.err = data['ivar']**-0.5 * 1e-17\n",
      "/gpfs/share/home/1900011612/anaconda3/lib/python3.9/site-packages/specbox/basemodule/basemodule.py:308: RuntimeWarning: divide by zero encountered in power\n",
      "  self.err = data['ivar']**-0.5 * 1e-17\n",
      "/gpfs/share/home/1900011612/anaconda3/lib/python3.9/site-packages/specbox/basemodule/basemodule.py:308: RuntimeWarning: divide by zero encountered in power\n",
      "  self.err = data['ivar']**-0.5 * 1e-17\n",
      "/gpfs/share/home/1900011612/anaconda3/lib/python3.9/site-packages/specbox/basemodule/basemodule.py:308: RuntimeWarning: divide by zero encountered in power\n",
      "  self.err = data['ivar']**-0.5 * 1e-17\n",
      "/gpfs/share/home/1900011612/anaconda3/lib/python3.9/site-packages/specbox/basemodule/basemodule.py:308: RuntimeWarning: divide by zero encountered in power\n",
      "  self.err = data['ivar']**-0.5 * 1e-17\n",
      "/gpfs/share/home/1900011612/anaconda3/lib/python3.9/site-packages/specbox/basemodule/basemodule.py:308: RuntimeWarning: divide by zero encountered in power\n",
      "  self.err = data['ivar']**-0.5 * 1e-17\n",
      "/gpfs/share/home/1900011612/anaconda3/lib/python3.9/site-packages/specbox/basemodule/basemodule.py:308: RuntimeWarning: divide by zero encountered in power\n",
      "  self.err = data['ivar']**-0.5 * 1e-17\n",
      "/gpfs/share/home/1900011612/anaconda3/lib/python3.9/site-packages/specbox/basemodule/basemodule.py:308: RuntimeWarning: divide by zero encountered in power\n",
      "  self.err = data['ivar']**-0.5 * 1e-17\n",
      "/gpfs/share/home/1900011612/anaconda3/lib/python3.9/site-packages/specbox/basemodule/basemodule.py:308: RuntimeWarning: divide by zero encountered in power\n",
      "  self.err = data['ivar']**-0.5 * 1e-17\n",
      "/gpfs/share/home/1900011612/anaconda3/lib/python3.9/site-packages/specbox/basemodule/basemodule.py:308: RuntimeWarning: divide by zero encountered in power\n",
      "  self.err = data['ivar']**-0.5 * 1e-17\n",
      "/gpfs/share/home/1900011612/anaconda3/lib/python3.9/site-packages/specbox/basemodule/basemodule.py:308: RuntimeWarning: divide by zero encountered in power\n",
      "  self.err = data['ivar']**-0.5 * 1e-17\n",
      "/gpfs/share/home/1900011612/anaconda3/lib/python3.9/site-packages/specbox/basemodule/basemodule.py:308: RuntimeWarning: divide by zero encountered in power\n",
      "  self.err = data['ivar']**-0.5 * 1e-17\n",
      "/gpfs/share/home/1900011612/anaconda3/lib/python3.9/site-packages/specbox/basemodule/basemodule.py:308: RuntimeWarning: divide by zero encountered in power\n",
      "  self.err = data['ivar']**-0.5 * 1e-17\n",
      "/gpfs/share/home/1900011612/anaconda3/lib/python3.9/site-packages/specbox/basemodule/basemodule.py:308: RuntimeWarning: divide by zero encountered in power\n",
      "  self.err = data['ivar']**-0.5 * 1e-17\n",
      "/gpfs/share/home/1900011612/anaconda3/lib/python3.9/site-packages/specbox/basemodule/basemodule.py:308: RuntimeWarning: divide by zero encountered in power\n",
      "  self.err = data['ivar']**-0.5 * 1e-17\n",
      "/gpfs/share/home/1900011612/anaconda3/lib/python3.9/site-packages/specbox/basemodule/basemodule.py:308: RuntimeWarning: divide by zero encountered in power\n",
      "  self.err = data['ivar']**-0.5 * 1e-17\n",
      "/gpfs/share/home/1900011612/anaconda3/lib/python3.9/site-packages/specbox/basemodule/basemodule.py:308: RuntimeWarning: divide by zero encountered in power\n",
      "  self.err = data['ivar']**-0.5 * 1e-17\n",
      "/gpfs/share/home/1900011612/anaconda3/lib/python3.9/site-packages/specbox/basemodule/basemodule.py:308: RuntimeWarning: divide by zero encountered in power\n",
      "  self.err = data['ivar']**-0.5 * 1e-17\n",
      "/gpfs/share/home/1900011612/anaconda3/lib/python3.9/site-packages/specbox/basemodule/basemodule.py:308: RuntimeWarning: divide by zero encountered in power\n",
      "  self.err = data['ivar']**-0.5 * 1e-17\n",
      "/gpfs/share/home/1900011612/anaconda3/lib/python3.9/site-packages/specbox/basemodule/basemodule.py:308: RuntimeWarning: divide by zero encountered in power\n",
      "  self.err = data['ivar']**-0.5 * 1e-17\n",
      "/gpfs/share/home/1900011612/anaconda3/lib/python3.9/site-packages/specbox/basemodule/basemodule.py:308: RuntimeWarning: divide by zero encountered in power\n",
      "  self.err = data['ivar']**-0.5 * 1e-17\n",
      "/gpfs/share/home/1900011612/anaconda3/lib/python3.9/site-packages/specbox/basemodule/basemodule.py:308: RuntimeWarning: divide by zero encountered in power\n",
      "  self.err = data['ivar']**-0.5 * 1e-17\n",
      "/gpfs/share/home/1900011612/anaconda3/lib/python3.9/site-packages/specbox/basemodule/basemodule.py:308: RuntimeWarning: divide by zero encountered in power\n",
      "  self.err = data['ivar']**-0.5 * 1e-17\n",
      "/gpfs/share/home/1900011612/anaconda3/lib/python3.9/site-packages/specbox/basemodule/basemodule.py:308: RuntimeWarning: divide by zero encountered in power\n",
      "  self.err = data['ivar']**-0.5 * 1e-17\n",
      "/gpfs/share/home/1900011612/anaconda3/lib/python3.9/site-packages/specbox/basemodule/basemodule.py:308: RuntimeWarning: divide by zero encountered in power\n",
      "  self.err = data['ivar']**-0.5 * 1e-17\n",
      "/gpfs/share/home/1900011612/anaconda3/lib/python3.9/site-packages/specbox/basemodule/basemodule.py:308: RuntimeWarning: divide by zero encountered in power\n",
      "  self.err = data['ivar']**-0.5 * 1e-17\n",
      "/gpfs/share/home/1900011612/anaconda3/lib/python3.9/site-packages/specbox/basemodule/basemodule.py:308: RuntimeWarning: divide by zero encountered in power\n",
      "  self.err = data['ivar']**-0.5 * 1e-17\n",
      "/gpfs/share/home/1900011612/anaconda3/lib/python3.9/site-packages/specbox/basemodule/basemodule.py:308: RuntimeWarning: divide by zero encountered in power\n",
      "  self.err = data['ivar']**-0.5 * 1e-17\n",
      "/gpfs/share/home/1900011612/anaconda3/lib/python3.9/site-packages/specbox/basemodule/basemodule.py:308: RuntimeWarning: divide by zero encountered in power\n",
      "  self.err = data['ivar']**-0.5 * 1e-17\n",
      "/gpfs/share/home/1900011612/anaconda3/lib/python3.9/site-packages/specbox/basemodule/basemodule.py:308: RuntimeWarning: divide by zero encountered in power\n",
      "  self.err = data['ivar']**-0.5 * 1e-17\n",
      "/gpfs/share/home/1900011612/anaconda3/lib/python3.9/site-packages/specbox/basemodule/basemodule.py:308: RuntimeWarning: divide by zero encountered in power\n",
      "  self.err = data['ivar']**-0.5 * 1e-17\n",
      "/gpfs/share/home/1900011612/anaconda3/lib/python3.9/site-packages/specbox/basemodule/basemodule.py:308: RuntimeWarning: divide by zero encountered in power\n",
      "  self.err = data['ivar']**-0.5 * 1e-17\n",
      "/gpfs/share/home/1900011612/anaconda3/lib/python3.9/site-packages/specbox/basemodule/basemodule.py:308: RuntimeWarning: divide by zero encountered in power\n",
      "  self.err = data['ivar']**-0.5 * 1e-17\n",
      "/gpfs/share/home/1900011612/anaconda3/lib/python3.9/site-packages/specbox/basemodule/basemodule.py:308: RuntimeWarning: divide by zero encountered in power\n",
      "  self.err = data['ivar']**-0.5 * 1e-17\n",
      "/gpfs/share/home/1900011612/anaconda3/lib/python3.9/site-packages/specbox/basemodule/basemodule.py:308: RuntimeWarning: divide by zero encountered in power\n",
      "  self.err = data['ivar']**-0.5 * 1e-17\n",
      "/gpfs/share/home/1900011612/anaconda3/lib/python3.9/site-packages/specbox/basemodule/basemodule.py:308: RuntimeWarning: divide by zero encountered in power\n",
      "  self.err = data['ivar']**-0.5 * 1e-17\n",
      "/gpfs/share/home/1900011612/anaconda3/lib/python3.9/site-packages/specbox/basemodule/basemodule.py:308: RuntimeWarning: divide by zero encountered in power\n",
      "  self.err = data['ivar']**-0.5 * 1e-17\n",
      "/gpfs/share/home/1900011612/anaconda3/lib/python3.9/site-packages/specbox/basemodule/basemodule.py:308: RuntimeWarning: divide by zero encountered in power\n",
      "  self.err = data['ivar']**-0.5 * 1e-17\n",
      "/gpfs/share/home/1900011612/anaconda3/lib/python3.9/site-packages/specbox/basemodule/basemodule.py:308: RuntimeWarning: divide by zero encountered in power\n",
      "  self.err = data['ivar']**-0.5 * 1e-17\n",
      "/gpfs/share/home/1900011612/anaconda3/lib/python3.9/site-packages/specbox/basemodule/basemodule.py:308: RuntimeWarning: divide by zero encountered in power\n",
      "  self.err = data['ivar']**-0.5 * 1e-17\n",
      "/gpfs/share/home/1900011612/anaconda3/lib/python3.9/site-packages/specbox/basemodule/basemodule.py:308: RuntimeWarning: divide by zero encountered in power\n",
      "  self.err = data['ivar']**-0.5 * 1e-17\n",
      "/gpfs/share/home/1900011612/anaconda3/lib/python3.9/site-packages/specbox/basemodule/basemodule.py:308: RuntimeWarning: divide by zero encountered in power\n",
      "  self.err = data['ivar']**-0.5 * 1e-17\n",
      "/gpfs/share/home/1900011612/anaconda3/lib/python3.9/site-packages/specbox/basemodule/basemodule.py:308: RuntimeWarning: divide by zero encountered in power\n",
      "  self.err = data['ivar']**-0.5 * 1e-17\n",
      "/gpfs/share/home/1900011612/anaconda3/lib/python3.9/site-packages/specbox/basemodule/basemodule.py:308: RuntimeWarning: divide by zero encountered in power\n",
      "  self.err = data['ivar']**-0.5 * 1e-17\n",
      "/gpfs/share/home/1900011612/anaconda3/lib/python3.9/site-packages/specbox/basemodule/basemodule.py:308: RuntimeWarning: divide by zero encountered in power\n",
      "  self.err = data['ivar']**-0.5 * 1e-17\n",
      "/gpfs/share/home/1900011612/anaconda3/lib/python3.9/site-packages/specbox/basemodule/basemodule.py:308: RuntimeWarning: divide by zero encountered in power\n",
      "  self.err = data['ivar']**-0.5 * 1e-17\n",
      "/gpfs/share/home/1900011612/anaconda3/lib/python3.9/site-packages/specbox/basemodule/basemodule.py:308: RuntimeWarning: divide by zero encountered in power\n",
      "  self.err = data['ivar']**-0.5 * 1e-17\n",
      "/gpfs/share/home/1900011612/anaconda3/lib/python3.9/site-packages/specbox/basemodule/basemodule.py:308: RuntimeWarning: divide by zero encountered in power\n",
      "  self.err = data['ivar']**-0.5 * 1e-17\n",
      "/gpfs/share/home/1900011612/anaconda3/lib/python3.9/site-packages/specbox/basemodule/basemodule.py:308: RuntimeWarning: divide by zero encountered in power\n",
      "  self.err = data['ivar']**-0.5 * 1e-17\n",
      "/gpfs/share/home/1900011612/anaconda3/lib/python3.9/site-packages/specbox/basemodule/basemodule.py:308: RuntimeWarning: divide by zero encountered in power\n",
      "  self.err = data['ivar']**-0.5 * 1e-17\n",
      "/gpfs/share/home/1900011612/anaconda3/lib/python3.9/site-packages/specbox/basemodule/basemodule.py:308: RuntimeWarning: divide by zero encountered in power\n",
      "  self.err = data['ivar']**-0.5 * 1e-17\n",
      "/gpfs/share/home/1900011612/anaconda3/lib/python3.9/site-packages/specbox/basemodule/basemodule.py:308: RuntimeWarning: divide by zero encountered in power\n",
      "  self.err = data['ivar']**-0.5 * 1e-17\n",
      "/gpfs/share/home/1900011612/anaconda3/lib/python3.9/site-packages/specbox/basemodule/basemodule.py:308: RuntimeWarning: divide by zero encountered in power\n",
      "  self.err = data['ivar']**-0.5 * 1e-17\n",
      "/gpfs/share/home/1900011612/anaconda3/lib/python3.9/site-packages/specbox/basemodule/basemodule.py:308: RuntimeWarning: divide by zero encountered in power\n",
      "  self.err = data['ivar']**-0.5 * 1e-17\n",
      "/gpfs/share/home/1900011612/anaconda3/lib/python3.9/site-packages/specbox/basemodule/basemodule.py:308: RuntimeWarning: divide by zero encountered in power\n",
      "  self.err = data['ivar']**-0.5 * 1e-17\n",
      "/gpfs/share/home/1900011612/anaconda3/lib/python3.9/site-packages/specbox/basemodule/basemodule.py:308: RuntimeWarning: divide by zero encountered in power\n",
      "  self.err = data['ivar']**-0.5 * 1e-17\n",
      "/gpfs/share/home/1900011612/anaconda3/lib/python3.9/site-packages/specbox/basemodule/basemodule.py:308: RuntimeWarning: divide by zero encountered in power\n",
      "  self.err = data['ivar']**-0.5 * 1e-17\n",
      "/gpfs/share/home/1900011612/anaconda3/lib/python3.9/site-packages/specbox/basemodule/basemodule.py:308: RuntimeWarning: divide by zero encountered in power\n",
      "  self.err = data['ivar']**-0.5 * 1e-17\n",
      "/gpfs/share/home/1900011612/anaconda3/lib/python3.9/site-packages/specbox/basemodule/basemodule.py:308: RuntimeWarning: divide by zero encountered in power\n",
      "  self.err = data['ivar']**-0.5 * 1e-17\n",
      "/gpfs/share/home/1900011612/anaconda3/lib/python3.9/site-packages/specbox/basemodule/basemodule.py:308: RuntimeWarning: divide by zero encountered in power\n",
      "  self.err = data['ivar']**-0.5 * 1e-17\n",
      "/gpfs/share/home/1900011612/anaconda3/lib/python3.9/site-packages/specbox/basemodule/basemodule.py:308: RuntimeWarning: divide by zero encountered in power\n",
      "  self.err = data['ivar']**-0.5 * 1e-17\n",
      "/gpfs/share/home/1900011612/anaconda3/lib/python3.9/site-packages/specbox/basemodule/basemodule.py:308: RuntimeWarning: divide by zero encountered in power\n",
      "  self.err = data['ivar']**-0.5 * 1e-17\n",
      "/gpfs/share/home/1900011612/anaconda3/lib/python3.9/site-packages/specbox/basemodule/basemodule.py:308: RuntimeWarning: divide by zero encountered in power\n",
      "  self.err = data['ivar']**-0.5 * 1e-17\n",
      "/gpfs/share/home/1900011612/anaconda3/lib/python3.9/site-packages/specbox/basemodule/basemodule.py:308: RuntimeWarning: divide by zero encountered in power\n",
      "  self.err = data['ivar']**-0.5 * 1e-17\n",
      "/gpfs/share/home/1900011612/anaconda3/lib/python3.9/site-packages/specbox/basemodule/basemodule.py:308: RuntimeWarning: divide by zero encountered in power\n",
      "  self.err = data['ivar']**-0.5 * 1e-17\n",
      "/gpfs/share/home/1900011612/anaconda3/lib/python3.9/site-packages/specbox/basemodule/basemodule.py:308: RuntimeWarning: divide by zero encountered in power\n",
      "  self.err = data['ivar']**-0.5 * 1e-17\n",
      "/gpfs/share/home/1900011612/anaconda3/lib/python3.9/site-packages/specbox/basemodule/basemodule.py:308: RuntimeWarning: divide by zero encountered in power\n",
      "  self.err = data['ivar']**-0.5 * 1e-17\n",
      "/gpfs/share/home/1900011612/anaconda3/lib/python3.9/site-packages/specbox/basemodule/basemodule.py:308: RuntimeWarning: divide by zero encountered in power\n",
      "  self.err = data['ivar']**-0.5 * 1e-17\n",
      "/gpfs/share/home/1900011612/anaconda3/lib/python3.9/site-packages/specbox/basemodule/basemodule.py:308: RuntimeWarning: divide by zero encountered in power\n",
      "  self.err = data['ivar']**-0.5 * 1e-17\n",
      "/gpfs/share/home/1900011612/anaconda3/lib/python3.9/site-packages/specbox/basemodule/basemodule.py:308: RuntimeWarning: divide by zero encountered in power\n",
      "  self.err = data['ivar']**-0.5 * 1e-17\n"
     ]
    }
   ],
   "source": [
    "pool = multiprocessing.Pool(processes=80)\n",
    "outputs = pool.map(spectransform, fullpath.values)"
   ]
  },
  {
   "cell_type": "code",
   "execution_count": 22,
   "id": "a6d155a5",
   "metadata": {
    "ExecuteTime": {
     "end_time": "2023-04-04T07:15:44.530044Z",
     "start_time": "2023-04-04T07:15:42.632386Z"
    }
   },
   "outputs": [],
   "source": [
    "dfspec = pd.DataFrame(outputs)"
   ]
  },
  {
   "cell_type": "code",
   "execution_count": 23,
   "id": "d1548e47",
   "metadata": {
    "ExecuteTime": {
     "end_time": "2023-04-04T07:15:45.819454Z",
     "start_time": "2023-04-04T07:15:45.812996Z"
    }
   },
   "outputs": [
    {
     "data": {
      "text/plain": [
       "(839, 3522)"
      ]
     },
     "execution_count": 23,
     "metadata": {},
     "output_type": "execute_result"
    }
   ],
   "source": [
    "dfspec.shape"
   ]
  },
  {
   "cell_type": "code",
   "execution_count": 24,
   "id": "b47a1845",
   "metadata": {
    "ExecuteTime": {
     "end_time": "2023-04-04T07:15:53.363273Z",
     "start_time": "2023-04-04T07:15:53.356504Z"
    }
   },
   "outputs": [
    {
     "data": {
      "text/plain": [
       "Index(['Filename', 'Label', 'redshift'], dtype='object')"
      ]
     },
     "execution_count": 24,
     "metadata": {},
     "output_type": "execute_result"
    }
   ],
   "source": [
    "df1.columns"
   ]
  },
  {
   "cell_type": "code",
   "execution_count": 25,
   "id": "56dbc8d6",
   "metadata": {
    "ExecuteTime": {
     "end_time": "2023-03-16T16:57:17.179464Z",
     "start_time": "2023-03-16T16:57:17.167577Z"
    }
   },
   "outputs": [],
   "source": [
    "# dfs = df.loc[:,['RA', 'DEC', 'PLATE', 'MJD', 'FIBERID', 'Z']]"
   ]
  },
  {
   "cell_type": "code",
   "execution_count": 26,
   "id": "d3519780",
   "metadata": {
    "ExecuteTime": {
     "end_time": "2023-04-04T07:16:33.827986Z",
     "start_time": "2023-04-04T07:16:33.749404Z"
    }
   },
   "outputs": [],
   "source": [
    "dfspec = dfspec.join(df1)"
   ]
  },
  {
   "cell_type": "code",
   "execution_count": 27,
   "id": "cb42de6d",
   "metadata": {
    "ExecuteTime": {
     "end_time": "2023-04-04T07:16:35.006436Z",
     "start_time": "2023-04-04T07:16:34.967657Z"
    },
    "scrolled": true
   },
   "outputs": [
    {
     "data": {
      "text/html": [
       "<div>\n",
       "<style scoped>\n",
       "    .dataframe tbody tr th:only-of-type {\n",
       "        vertical-align: middle;\n",
       "    }\n",
       "\n",
       "    .dataframe tbody tr th {\n",
       "        vertical-align: top;\n",
       "    }\n",
       "\n",
       "    .dataframe thead th {\n",
       "        text-align: right;\n",
       "    }\n",
       "</style>\n",
       "<table border=\"1\" class=\"dataframe\">\n",
       "  <thead>\n",
       "    <tr style=\"text-align: right;\">\n",
       "      <th></th>\n",
       "      <th>0</th>\n",
       "      <th>1</th>\n",
       "      <th>2</th>\n",
       "      <th>3</th>\n",
       "      <th>4</th>\n",
       "      <th>5</th>\n",
       "      <th>6</th>\n",
       "      <th>7</th>\n",
       "      <th>8</th>\n",
       "      <th>9</th>\n",
       "      <th>...</th>\n",
       "      <th>3515</th>\n",
       "      <th>3516</th>\n",
       "      <th>3517</th>\n",
       "      <th>3518</th>\n",
       "      <th>3519</th>\n",
       "      <th>3520</th>\n",
       "      <th>3521</th>\n",
       "      <th>Filename</th>\n",
       "      <th>Label</th>\n",
       "      <th>redshift</th>\n",
       "    </tr>\n",
       "  </thead>\n",
       "  <tbody>\n",
       "    <tr>\n",
       "      <th>0</th>\n",
       "      <td>-0.272950</td>\n",
       "      <td>1.056850</td>\n",
       "      <td>0.541104</td>\n",
       "      <td>-0.425962</td>\n",
       "      <td>-0.290942</td>\n",
       "      <td>0.247559</td>\n",
       "      <td>0.736341</td>\n",
       "      <td>0.315651</td>\n",
       "      <td>0.096573</td>\n",
       "      <td>-0.118562</td>\n",
       "      <td>...</td>\n",
       "      <td>2.396678</td>\n",
       "      <td>2.723467</td>\n",
       "      <td>2.328005</td>\n",
       "      <td>2.140936</td>\n",
       "      <td>2.422459</td>\n",
       "      <td>2.835612</td>\n",
       "      <td>2.595600</td>\n",
       "      <td>spec-7378-56715-0436.fits</td>\n",
       "      <td>FeLoBAL</td>\n",
       "      <td>2.239379</td>\n",
       "    </tr>\n",
       "    <tr>\n",
       "      <th>1</th>\n",
       "      <td>0.437413</td>\n",
       "      <td>0.597947</td>\n",
       "      <td>0.765858</td>\n",
       "      <td>0.817063</td>\n",
       "      <td>0.831437</td>\n",
       "      <td>0.991502</td>\n",
       "      <td>1.048408</td>\n",
       "      <td>1.143962</td>\n",
       "      <td>1.006748</td>\n",
       "      <td>0.793228</td>\n",
       "      <td>...</td>\n",
       "      <td>-0.813932</td>\n",
       "      <td>-0.900805</td>\n",
       "      <td>-1.067298</td>\n",
       "      <td>-1.159893</td>\n",
       "      <td>-1.012454</td>\n",
       "      <td>-0.836310</td>\n",
       "      <td>-0.565390</td>\n",
       "      <td>spec-3763-55508-0990.fits</td>\n",
       "      <td>FeLoBAL</td>\n",
       "      <td>2.315665</td>\n",
       "    </tr>\n",
       "    <tr>\n",
       "      <th>2</th>\n",
       "      <td>-1.432960</td>\n",
       "      <td>-1.024800</td>\n",
       "      <td>-1.287398</td>\n",
       "      <td>-1.660437</td>\n",
       "      <td>-1.546280</td>\n",
       "      <td>-1.313383</td>\n",
       "      <td>-1.302834</td>\n",
       "      <td>-1.382930</td>\n",
       "      <td>-1.353146</td>\n",
       "      <td>-1.317502</td>\n",
       "      <td>...</td>\n",
       "      <td>1.380772</td>\n",
       "      <td>1.382211</td>\n",
       "      <td>1.287288</td>\n",
       "      <td>1.102472</td>\n",
       "      <td>1.093720</td>\n",
       "      <td>1.348487</td>\n",
       "      <td>1.024443</td>\n",
       "      <td>spec-3771-55544-0842.fits</td>\n",
       "      <td>FeLoBAL</td>\n",
       "      <td>1.567929</td>\n",
       "    </tr>\n",
       "    <tr>\n",
       "      <th>3</th>\n",
       "      <td>-4.122627</td>\n",
       "      <td>-3.528450</td>\n",
       "      <td>-3.133138</td>\n",
       "      <td>-2.783693</td>\n",
       "      <td>-2.433680</td>\n",
       "      <td>-1.853307</td>\n",
       "      <td>-1.583229</td>\n",
       "      <td>-1.570417</td>\n",
       "      <td>-1.673850</td>\n",
       "      <td>-1.753690</td>\n",
       "      <td>...</td>\n",
       "      <td>-0.426877</td>\n",
       "      <td>-0.280805</td>\n",
       "      <td>-0.126278</td>\n",
       "      <td>-0.211044</td>\n",
       "      <td>-0.273270</td>\n",
       "      <td>-0.100862</td>\n",
       "      <td>0.005425</td>\n",
       "      <td>spec-11677-58510-0991.fits</td>\n",
       "      <td>FeLoBAL</td>\n",
       "      <td>1.588018</td>\n",
       "    </tr>\n",
       "    <tr>\n",
       "      <th>4</th>\n",
       "      <td>-0.589485</td>\n",
       "      <td>-0.450383</td>\n",
       "      <td>-0.775628</td>\n",
       "      <td>-1.284829</td>\n",
       "      <td>-1.646684</td>\n",
       "      <td>-1.498073</td>\n",
       "      <td>-1.014081</td>\n",
       "      <td>-0.498082</td>\n",
       "      <td>-0.015552</td>\n",
       "      <td>0.352968</td>\n",
       "      <td>...</td>\n",
       "      <td>0.178782</td>\n",
       "      <td>0.253349</td>\n",
       "      <td>0.477122</td>\n",
       "      <td>0.291706</td>\n",
       "      <td>0.143951</td>\n",
       "      <td>0.471743</td>\n",
       "      <td>0.852256</td>\n",
       "      <td>spec-4014-55630-0880.fits</td>\n",
       "      <td>FeLoBAL</td>\n",
       "      <td>2.244618</td>\n",
       "    </tr>\n",
       "  </tbody>\n",
       "</table>\n",
       "<p>5 rows × 3525 columns</p>\n",
       "</div>"
      ],
      "text/plain": [
       "          0         1         2         3         4         5         6  \\\n",
       "0 -0.272950  1.056850  0.541104 -0.425962 -0.290942  0.247559  0.736341   \n",
       "1  0.437413  0.597947  0.765858  0.817063  0.831437  0.991502  1.048408   \n",
       "2 -1.432960 -1.024800 -1.287398 -1.660437 -1.546280 -1.313383 -1.302834   \n",
       "3 -4.122627 -3.528450 -3.133138 -2.783693 -2.433680 -1.853307 -1.583229   \n",
       "4 -0.589485 -0.450383 -0.775628 -1.284829 -1.646684 -1.498073 -1.014081   \n",
       "\n",
       "          7         8         9  ...      3515      3516      3517      3518  \\\n",
       "0  0.315651  0.096573 -0.118562  ...  2.396678  2.723467  2.328005  2.140936   \n",
       "1  1.143962  1.006748  0.793228  ... -0.813932 -0.900805 -1.067298 -1.159893   \n",
       "2 -1.382930 -1.353146 -1.317502  ...  1.380772  1.382211  1.287288  1.102472   \n",
       "3 -1.570417 -1.673850 -1.753690  ... -0.426877 -0.280805 -0.126278 -0.211044   \n",
       "4 -0.498082 -0.015552  0.352968  ...  0.178782  0.253349  0.477122  0.291706   \n",
       "\n",
       "       3519      3520      3521                    Filename    Label  redshift  \n",
       "0  2.422459  2.835612  2.595600   spec-7378-56715-0436.fits  FeLoBAL  2.239379  \n",
       "1 -1.012454 -0.836310 -0.565390   spec-3763-55508-0990.fits  FeLoBAL  2.315665  \n",
       "2  1.093720  1.348487  1.024443   spec-3771-55544-0842.fits  FeLoBAL  1.567929  \n",
       "3 -0.273270 -0.100862  0.005425  spec-11677-58510-0991.fits  FeLoBAL  1.588018  \n",
       "4  0.143951  0.471743  0.852256   spec-4014-55630-0880.fits  FeLoBAL  2.244618  \n",
       "\n",
       "[5 rows x 3525 columns]"
      ]
     },
     "execution_count": 27,
     "metadata": {},
     "output_type": "execute_result"
    }
   ],
   "source": [
    "dfspec.head()"
   ]
  },
  {
   "cell_type": "code",
   "execution_count": null,
   "id": "2ddf10c7",
   "metadata": {
    "ExecuteTime": {
     "end_time": "2023-04-04T07:18:13.812789Z",
     "start_time": "2023-04-04T07:18:13.805005Z"
    }
   },
   "outputs": [],
   "source": []
  },
  {
   "cell_type": "code",
   "execution_count": 28,
   "id": "ed584d68",
   "metadata": {
    "ExecuteTime": {
     "end_time": "2023-04-04T07:19:26.223204Z",
     "start_time": "2023-04-04T07:19:26.177325Z"
    }
   },
   "outputs": [],
   "source": [
    "dfspec.dropna(subset=pd.Index(np.arange(3522)), inplace=True)"
   ]
  },
  {
   "cell_type": "code",
   "execution_count": 29,
   "id": "3ab83670",
   "metadata": {
    "ExecuteTime": {
     "end_time": "2023-04-04T07:19:42.440261Z",
     "start_time": "2023-04-04T07:19:42.436492Z"
    }
   },
   "outputs": [],
   "source": [
    "dfspec.reset_index(drop=True, inplace=True)"
   ]
  },
  {
   "cell_type": "code",
   "execution_count": 30,
   "id": "fb49cbe9",
   "metadata": {
    "ExecuteTime": {
     "end_time": "2023-04-04T07:20:16.835114Z",
     "start_time": "2023-04-04T07:20:16.831344Z"
    }
   },
   "outputs": [],
   "source": [
    "# dfspec.to_csv('train_v3_fnorm.csv', index=False)"
   ]
  },
  {
   "cell_type": "code",
   "execution_count": 31,
   "id": "7277fc0d",
   "metadata": {
    "ExecuteTime": {
     "end_time": "2023-04-04T07:23:17.424617Z",
     "start_time": "2023-04-04T07:23:13.731592Z"
    }
   },
   "outputs": [],
   "source": [
    "dfspec.to_csv('./Datasets/train_v3_fnorm.csv', index=False)"
   ]
  },
  {
   "cell_type": "code",
   "execution_count": 32,
   "id": "d0edb925",
   "metadata": {
    "ExecuteTime": {
     "end_time": "2023-04-04T07:23:18.235638Z",
     "start_time": "2023-04-04T07:23:17.430177Z"
    }
   },
   "outputs": [],
   "source": [
    "dftest = pd.read_csv('./Datasets/train_v3_fnorm.csv')"
   ]
  },
  {
   "cell_type": "code",
   "execution_count": 33,
   "id": "3134db41",
   "metadata": {
    "ExecuteTime": {
     "end_time": "2023-04-04T07:23:25.459234Z",
     "start_time": "2023-04-04T07:23:25.455435Z"
    }
   },
   "outputs": [],
   "source": [
    "# dftest"
   ]
  },
  {
   "cell_type": "code",
   "execution_count": 34,
   "id": "17b6da6c",
   "metadata": {
    "ExecuteTime": {
     "end_time": "2023-04-04T07:35:11.711760Z",
     "start_time": "2023-04-04T07:35:11.675398Z"
    }
   },
   "outputs": [],
   "source": [
    "arr1 = dfspec.loc[:,pd.Index(np.arange(3522))].values"
   ]
  },
  {
   "cell_type": "code",
   "execution_count": 35,
   "id": "8806b2c0",
   "metadata": {
    "ExecuteTime": {
     "end_time": "2023-04-04T07:35:58.514119Z",
     "start_time": "2023-04-04T07:35:58.504140Z"
    }
   },
   "outputs": [
    {
     "data": {
      "text/plain": [
       "array([ 0.62664549,  0.58049722,  0.54389899, ..., -0.54370868,\n",
       "       -0.37341465, -0.32837646])"
      ]
     },
     "execution_count": 35,
     "metadata": {},
     "output_type": "execute_result"
    }
   ],
   "source": [
    "arr1.mean(axis=0)"
   ]
  },
  {
   "cell_type": "code",
   "execution_count": 36,
   "id": "dca5add9",
   "metadata": {},
   "outputs": [
    {
     "data": {
      "text/plain": [
       "Index(['0', '1', '2', '3', '4', '5', '6', '7', '8', '9',\n",
       "       ...\n",
       "       '3515', '3516', '3517', '3518', '3519', '3520', '3521', 'Filename',\n",
       "       'Label', 'redshift'],\n",
       "      dtype='object', length=3525)"
      ]
     },
     "execution_count": 36,
     "metadata": {},
     "output_type": "execute_result"
    }
   ],
   "source": [
    "dftest.columns"
   ]
  },
  {
   "cell_type": "code",
   "execution_count": 46,
   "id": "ee31e0af",
   "metadata": {},
   "outputs": [
    {
     "name": "stderr",
     "output_type": "stream",
     "text": [
      "/tmp/ipykernel_76470/424564734.py:1: DeprecationWarning: `np.float` is a deprecated alias for the builtin `float`. To silence this warning, use `float` by itself. Doing this will not modify any behavior and is safe. If you specifically wanted the numpy scalar type, use `np.float64` here.\n",
      "Deprecated in NumPy 1.20; for more details and guidance: https://numpy.org/devdocs/release/1.20.0-notes.html#deprecations\n",
      "  dftest.values[:,0:3522].astype(np.float)\n"
     ]
    },
    {
     "data": {
      "text/plain": [
       "array([[-0.27295032,  1.0568504 ,  0.54110444, ...,  2.42245889,\n",
       "         2.8356123 ,  2.59560013],\n",
       "       [ 0.4374127 ,  0.5979466 ,  0.76585793, ..., -1.01245391,\n",
       "        -0.83630961, -0.56538969],\n",
       "       [-1.4329598 , -1.0248    , -1.287398  , ...,  1.09371972,\n",
       "         1.34848714,  1.02444327],\n",
       "       ...,\n",
       "       [-0.9309967 , -1.1451778 , -1.2735512 , ..., -0.21071447,\n",
       "        -0.30297497,  0.02675193],\n",
       "       [-1.2140468 ,  0.91633946,  0.26268247, ...,  0.54616404,\n",
       "         1.06772721,  0.18743181],\n",
       "       [-1.4852076 , -2.4699316 , -2.462683  , ..., -0.18074313,\n",
       "         0.1722443 , -0.13230458]])"
      ]
     },
     "execution_count": 46,
     "metadata": {},
     "output_type": "execute_result"
    }
   ],
   "source": [
    "dftest.values[:,0:3522].astype(np.float)"
   ]
  },
  {
   "cell_type": "code",
   "execution_count": null,
   "id": "1a4b6860",
   "metadata": {},
   "outputs": [],
   "source": []
  }
 ],
 "metadata": {
  "kernelspec": {
   "display_name": "Python 3 (ipykernel)",
   "language": "python",
   "name": "python3"
  },
  "language_info": {
   "codemirror_mode": {
    "name": "ipython",
    "version": 3
   },
   "file_extension": ".py",
   "mimetype": "text/x-python",
   "name": "python",
   "nbconvert_exporter": "python",
   "pygments_lexer": "ipython3",
   "version": "3.9.13"
  }
 },
 "nbformat": 4,
 "nbformat_minor": 5
}
