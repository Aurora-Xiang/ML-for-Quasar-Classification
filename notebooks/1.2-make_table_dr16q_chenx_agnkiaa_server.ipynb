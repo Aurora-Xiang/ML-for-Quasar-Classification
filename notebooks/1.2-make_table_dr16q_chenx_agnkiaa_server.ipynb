{
 "cells": [
  {
   "cell_type": "code",
   "execution_count": 13,
   "id": "3edd01ec",
   "metadata": {
    "ExecuteTime": {
     "end_time": "2023-04-18T08:22:57.155018Z",
     "start_time": "2023-04-18T08:22:57.147227Z"
    }
   },
   "outputs": [],
   "source": [
    "%matplotlib inline\n",
    "import pandas as pd\n",
    "from astropy.table import Table\n",
    "import numpy as np\n",
    "from sklearn.model_selection import train_test_split\n",
    "import shutil\n",
    "from pathlib import Path\n",
    "import matplotlib.pyplot as plt\n",
    "from astropy.io import fits\n",
    "\n",
    "def sdss_spname(plate, mjd, fiberid):\n",
    "    filename = 'spec-{:0>4}-{}-{:0>4}.fits'.format(plate, mjd, fiberid)\n",
    "    return filename"
   ]
  },
  {
   "cell_type": "code",
   "execution_count": 2,
   "id": "cd6b80f8",
   "metadata": {
    "ExecuteTime": {
     "end_time": "2023-04-18T08:19:39.688781Z",
     "start_time": "2023-04-18T08:19:29.729886Z"
    }
   },
   "outputs": [],
   "source": [
    "df = Table.read('/store/public/databases/SDSS_QSO/DR16Q_v4.fits', character_as_bytes=False)"
   ]
  },
  {
   "cell_type": "code",
   "execution_count": 3,
   "id": "19d5699d",
   "metadata": {
    "ExecuteTime": {
     "end_time": "2023-04-18T08:19:57.263655Z",
     "start_time": "2023-04-18T08:19:39.690430Z"
    }
   },
   "outputs": [],
   "source": [
    "df = Table(df.as_array())"
   ]
  },
  {
   "cell_type": "markdown",
   "id": "583ef5fc",
   "metadata": {},
   "source": [
    "### Remove multidimensional columns "
   ]
  },
  {
   "cell_type": "code",
   "execution_count": 4,
   "id": "2a419a02",
   "metadata": {
    "ExecuteTime": {
     "end_time": "2023-04-18T08:19:57.302702Z",
     "start_time": "2023-04-18T08:19:57.266667Z"
    }
   },
   "outputs": [],
   "source": [
    "df.remove_columns(['Z_DLA', 'NHI_DLA', 'CONF_DLA', 'PLATE_DUPLICATE', \n",
    "                   'MJD_DUPLICATE', 'FIBERID_DUPLICATE', \n",
    "                   'SPECTRO_DUPLICATE', 'PSFFLUX', 'PSFFLUX_IVAR', \n",
    "                   'PSFMAG', 'PSFMAGERR', 'EXTINCTION'])"
   ]
  },
  {
   "cell_type": "code",
   "execution_count": 5,
   "id": "87b86364",
   "metadata": {
    "ExecuteTime": {
     "end_time": "2023-04-18T08:20:01.139633Z",
     "start_time": "2023-04-18T08:19:57.304354Z"
    }
   },
   "outputs": [],
   "source": [
    "df = df.to_pandas()"
   ]
  },
  {
   "cell_type": "code",
   "execution_count": 8,
   "id": "e02ba56c",
   "metadata": {
    "ExecuteTime": {
     "end_time": "2023-04-18T08:20:41.190759Z",
     "start_time": "2023-04-18T08:20:41.004484Z"
    }
   },
   "outputs": [],
   "source": [
    "df.query('SN_MEDIAN_ALL>=10 and \\\n",
    "Z>0.6 and Z<2.3 and \\\n",
    "(ZWARNING==0 or ZWARNING==-1)', inplace=True)\n",
    "# df.query('SN_MEDIAN_ALL>=3', inplace=True)"
   ]
  },
  {
   "cell_type": "code",
   "execution_count": 10,
   "id": "ed6af9bc",
   "metadata": {
    "ExecuteTime": {
     "end_time": "2023-04-18T08:22:23.220688Z",
     "start_time": "2023-04-18T08:22:23.210747Z"
    }
   },
   "outputs": [],
   "source": [
    "df = df.sample(n=100, random_state=8888)"
   ]
  },
  {
   "cell_type": "code",
   "execution_count": 11,
   "id": "e9d4040e",
   "metadata": {
    "ExecuteTime": {
     "end_time": "2023-04-18T08:22:24.874529Z",
     "start_time": "2023-04-18T08:22:24.868656Z"
    }
   },
   "outputs": [
    {
     "data": {
      "text/plain": [
       "(100, 171)"
      ]
     },
     "execution_count": 11,
     "metadata": {},
     "output_type": "execute_result"
    }
   ],
   "source": [
    "df.shape"
   ]
  },
  {
   "cell_type": "code",
   "execution_count": 14,
   "id": "0677e40d",
   "metadata": {
    "ExecuteTime": {
     "end_time": "2023-04-18T08:22:59.515368Z",
     "start_time": "2023-04-18T08:22:59.501323Z"
    }
   },
   "outputs": [],
   "source": [
    "df['Filename'] = df.apply(lambda x: sdss_spname(x['PLATE'],x['MJD'],x['FIBERID']),axis=1)"
   ]
  },
  {
   "cell_type": "code",
   "execution_count": 19,
   "id": "01323be2",
   "metadata": {
    "ExecuteTime": {
     "end_time": "2023-04-18T08:26:32.287739Z",
     "start_time": "2023-04-18T08:26:32.280775Z"
    }
   },
   "outputs": [],
   "source": [
    "df.loc[df.PLATE<3000, 'basepath'] = '/store/public/databases/sdss_sample/old_sdss/'\n",
    "df.loc[df.PLATE>3000, 'basepath'] = '/store/public/databases/sdss_sample/new_eboss/'"
   ]
  },
  {
   "cell_type": "code",
   "execution_count": 22,
   "id": "af75aa00",
   "metadata": {
    "ExecuteTime": {
     "end_time": "2023-04-18T08:28:11.143504Z",
     "start_time": "2023-04-18T08:28:11.134958Z"
    }
   },
   "outputs": [],
   "source": [
    "df['fullpath'] = df['basepath'] + df['Filename']"
   ]
  },
  {
   "cell_type": "code",
   "execution_count": 23,
   "id": "d72ed161",
   "metadata": {
    "ExecuteTime": {
     "end_time": "2023-04-18T08:28:13.108341Z",
     "start_time": "2023-04-18T08:28:13.060351Z"
    }
   },
   "outputs": [
    {
     "data": {
      "text/html": [
       "<div>\n",
       "<style scoped>\n",
       "    .dataframe tbody tr th:only-of-type {\n",
       "        vertical-align: middle;\n",
       "    }\n",
       "\n",
       "    .dataframe tbody tr th {\n",
       "        vertical-align: top;\n",
       "    }\n",
       "\n",
       "    .dataframe thead th {\n",
       "        text-align: right;\n",
       "    }\n",
       "</style>\n",
       "<table border=\"1\" class=\"dataframe\">\n",
       "  <thead>\n",
       "    <tr style=\"text-align: right;\">\n",
       "      <th></th>\n",
       "      <th>SDSS_NAME</th>\n",
       "      <th>RA</th>\n",
       "      <th>DEC</th>\n",
       "      <th>PLATE</th>\n",
       "      <th>MJD</th>\n",
       "      <th>FIBERID</th>\n",
       "      <th>AUTOCLASS_PQN</th>\n",
       "      <th>AUTOCLASS_DR14Q</th>\n",
       "      <th>IS_QSO_QN</th>\n",
       "      <th>Z_QN</th>\n",
       "      <th>...</th>\n",
       "      <th>GAIA_G_MAG</th>\n",
       "      <th>GAIA_G_FLUX_SNR</th>\n",
       "      <th>GAIA_BP_MAG</th>\n",
       "      <th>GAIA_BP_FLUX_SNR</th>\n",
       "      <th>GAIA_RP_MAG</th>\n",
       "      <th>GAIA_RP_FLUX_SNR</th>\n",
       "      <th>SDSS2GAIA_SEP</th>\n",
       "      <th>Filename</th>\n",
       "      <th>basepath</th>\n",
       "      <th>fullpath</th>\n",
       "    </tr>\n",
       "  </thead>\n",
       "  <tbody>\n",
       "    <tr>\n",
       "      <th>166632</th>\n",
       "      <td>080406.83+272126.7</td>\n",
       "      <td>121.028478</td>\n",
       "      <td>27.357431</td>\n",
       "      <td>4458</td>\n",
       "      <td>55536</td>\n",
       "      <td>808</td>\n",
       "      <td>QSO</td>\n",
       "      <td>QSO</td>\n",
       "      <td>1</td>\n",
       "      <td>1.346132</td>\n",
       "      <td>...</td>\n",
       "      <td>17.465195</td>\n",
       "      <td>524.921570</td>\n",
       "      <td>17.581177</td>\n",
       "      <td>63.830906</td>\n",
       "      <td>17.079052</td>\n",
       "      <td>92.832962</td>\n",
       "      <td>0.045761</td>\n",
       "      <td>spec-4458-55536-0808.fits</td>\n",
       "      <td>/store/public/databases/sdss_sample/new_eboss/</td>\n",
       "      <td>/store/public/databases/sdss_sample/new_eboss/...</td>\n",
       "    </tr>\n",
       "    <tr>\n",
       "      <th>663067</th>\n",
       "      <td>214836.71-005920.4</td>\n",
       "      <td>327.152993</td>\n",
       "      <td>-0.989025</td>\n",
       "      <td>9228</td>\n",
       "      <td>58014</td>\n",
       "      <td>106</td>\n",
       "      <td>QSO</td>\n",
       "      <td>QSO</td>\n",
       "      <td>1</td>\n",
       "      <td>1.183419</td>\n",
       "      <td>...</td>\n",
       "      <td>19.698389</td>\n",
       "      <td>127.904053</td>\n",
       "      <td>19.742140</td>\n",
       "      <td>34.580616</td>\n",
       "      <td>19.203074</td>\n",
       "      <td>12.337807</td>\n",
       "      <td>0.062320</td>\n",
       "      <td>spec-9228-58014-0106.fits</td>\n",
       "      <td>/store/public/databases/sdss_sample/new_eboss/</td>\n",
       "      <td>/store/public/databases/sdss_sample/new_eboss/...</td>\n",
       "    </tr>\n",
       "    <tr>\n",
       "      <th>514480</th>\n",
       "      <td>141619.88-014534.1</td>\n",
       "      <td>214.082869</td>\n",
       "      <td>-1.759481</td>\n",
       "      <td>916</td>\n",
       "      <td>52378</td>\n",
       "      <td>635</td>\n",
       "      <td>UNK</td>\n",
       "      <td>UNK</td>\n",
       "      <td>-1</td>\n",
       "      <td>-1.000000</td>\n",
       "      <td>...</td>\n",
       "      <td>18.618336</td>\n",
       "      <td>144.326172</td>\n",
       "      <td>18.750271</td>\n",
       "      <td>24.499502</td>\n",
       "      <td>18.208277</td>\n",
       "      <td>28.670298</td>\n",
       "      <td>0.053476</td>\n",
       "      <td>spec-0916-52378-0635.fits</td>\n",
       "      <td>/store/public/databases/sdss_sample/old_sdss/</td>\n",
       "      <td>/store/public/databases/sdss_sample/old_sdss/s...</td>\n",
       "    </tr>\n",
       "    <tr>\n",
       "      <th>272335</th>\n",
       "      <td>095234.95+123541.9</td>\n",
       "      <td>148.145664</td>\n",
       "      <td>12.594995</td>\n",
       "      <td>5323</td>\n",
       "      <td>55957</td>\n",
       "      <td>318</td>\n",
       "      <td>QSO</td>\n",
       "      <td>QSO</td>\n",
       "      <td>1</td>\n",
       "      <td>1.426202</td>\n",
       "      <td>...</td>\n",
       "      <td>17.788284</td>\n",
       "      <td>255.490005</td>\n",
       "      <td>17.979506</td>\n",
       "      <td>29.856512</td>\n",
       "      <td>17.385979</td>\n",
       "      <td>87.504852</td>\n",
       "      <td>0.048174</td>\n",
       "      <td>spec-5323-55957-0318.fits</td>\n",
       "      <td>/store/public/databases/sdss_sample/new_eboss/</td>\n",
       "      <td>/store/public/databases/sdss_sample/new_eboss/...</td>\n",
       "    </tr>\n",
       "    <tr>\n",
       "      <th>664200</th>\n",
       "      <td>215120.33+271951.4</td>\n",
       "      <td>327.834724</td>\n",
       "      <td>27.330952</td>\n",
       "      <td>7641</td>\n",
       "      <td>57307</td>\n",
       "      <td>855</td>\n",
       "      <td>QSO</td>\n",
       "      <td>QSO</td>\n",
       "      <td>1</td>\n",
       "      <td>1.794087</td>\n",
       "      <td>...</td>\n",
       "      <td>19.261457</td>\n",
       "      <td>192.667038</td>\n",
       "      <td>19.533079</td>\n",
       "      <td>20.729862</td>\n",
       "      <td>18.788317</td>\n",
       "      <td>15.901441</td>\n",
       "      <td>0.033862</td>\n",
       "      <td>spec-7641-57307-0855.fits</td>\n",
       "      <td>/store/public/databases/sdss_sample/new_eboss/</td>\n",
       "      <td>/store/public/databases/sdss_sample/new_eboss/...</td>\n",
       "    </tr>\n",
       "    <tr>\n",
       "      <th>...</th>\n",
       "      <td>...</td>\n",
       "      <td>...</td>\n",
       "      <td>...</td>\n",
       "      <td>...</td>\n",
       "      <td>...</td>\n",
       "      <td>...</td>\n",
       "      <td>...</td>\n",
       "      <td>...</td>\n",
       "      <td>...</td>\n",
       "      <td>...</td>\n",
       "      <td>...</td>\n",
       "      <td>...</td>\n",
       "      <td>...</td>\n",
       "      <td>...</td>\n",
       "      <td>...</td>\n",
       "      <td>...</td>\n",
       "      <td>...</td>\n",
       "      <td>...</td>\n",
       "      <td>...</td>\n",
       "      <td>...</td>\n",
       "      <td>...</td>\n",
       "    </tr>\n",
       "    <tr>\n",
       "      <th>561865</th>\n",
       "      <td>151155.98+460914.1</td>\n",
       "      <td>227.983274</td>\n",
       "      <td>46.153936</td>\n",
       "      <td>8514</td>\n",
       "      <td>58174</td>\n",
       "      <td>490</td>\n",
       "      <td>QSO</td>\n",
       "      <td>QSO</td>\n",
       "      <td>1</td>\n",
       "      <td>1.666431</td>\n",
       "      <td>...</td>\n",
       "      <td>18.956078</td>\n",
       "      <td>207.725494</td>\n",
       "      <td>19.044037</td>\n",
       "      <td>28.374559</td>\n",
       "      <td>18.609215</td>\n",
       "      <td>44.770523</td>\n",
       "      <td>0.019557</td>\n",
       "      <td>spec-8514-58174-0490.fits</td>\n",
       "      <td>/store/public/databases/sdss_sample/new_eboss/</td>\n",
       "      <td>/store/public/databases/sdss_sample/new_eboss/...</td>\n",
       "    </tr>\n",
       "    <tr>\n",
       "      <th>399659</th>\n",
       "      <td>120734.46+380553.1</td>\n",
       "      <td>181.893618</td>\n",
       "      <td>38.098105</td>\n",
       "      <td>4700</td>\n",
       "      <td>55709</td>\n",
       "      <td>244</td>\n",
       "      <td>QSO</td>\n",
       "      <td>QSO</td>\n",
       "      <td>1</td>\n",
       "      <td>0.755066</td>\n",
       "      <td>...</td>\n",
       "      <td>18.911100</td>\n",
       "      <td>155.320190</td>\n",
       "      <td>18.914886</td>\n",
       "      <td>16.889267</td>\n",
       "      <td>18.493448</td>\n",
       "      <td>22.395313</td>\n",
       "      <td>0.055926</td>\n",
       "      <td>spec-4700-55709-0244.fits</td>\n",
       "      <td>/store/public/databases/sdss_sample/new_eboss/</td>\n",
       "      <td>/store/public/databases/sdss_sample/new_eboss/...</td>\n",
       "    </tr>\n",
       "    <tr>\n",
       "      <th>663324</th>\n",
       "      <td>214917.93-004357.9</td>\n",
       "      <td>327.324719</td>\n",
       "      <td>-0.732751</td>\n",
       "      <td>9230</td>\n",
       "      <td>58021</td>\n",
       "      <td>690</td>\n",
       "      <td>QSO</td>\n",
       "      <td>QSO</td>\n",
       "      <td>1</td>\n",
       "      <td>2.143281</td>\n",
       "      <td>...</td>\n",
       "      <td>19.555309</td>\n",
       "      <td>91.096985</td>\n",
       "      <td>19.583582</td>\n",
       "      <td>12.425703</td>\n",
       "      <td>19.017656</td>\n",
       "      <td>16.858231</td>\n",
       "      <td>0.072496</td>\n",
       "      <td>spec-9230-58021-0690.fits</td>\n",
       "      <td>/store/public/databases/sdss_sample/new_eboss/</td>\n",
       "      <td>/store/public/databases/sdss_sample/new_eboss/...</td>\n",
       "    </tr>\n",
       "    <tr>\n",
       "      <th>733803</th>\n",
       "      <td>233948.47+220847.6</td>\n",
       "      <td>354.951993</td>\n",
       "      <td>22.146580</td>\n",
       "      <td>7601</td>\n",
       "      <td>56959</td>\n",
       "      <td>826</td>\n",
       "      <td>QSO</td>\n",
       "      <td>QSO</td>\n",
       "      <td>1</td>\n",
       "      <td>1.710395</td>\n",
       "      <td>...</td>\n",
       "      <td>18.965899</td>\n",
       "      <td>431.516113</td>\n",
       "      <td>19.203064</td>\n",
       "      <td>32.911995</td>\n",
       "      <td>18.458385</td>\n",
       "      <td>64.924171</td>\n",
       "      <td>0.058815</td>\n",
       "      <td>spec-7601-56959-0826.fits</td>\n",
       "      <td>/store/public/databases/sdss_sample/new_eboss/</td>\n",
       "      <td>/store/public/databases/sdss_sample/new_eboss/...</td>\n",
       "    </tr>\n",
       "    <tr>\n",
       "      <th>349122</th>\n",
       "      <td>111228.51+325140.3</td>\n",
       "      <td>168.118808</td>\n",
       "      <td>32.861206</td>\n",
       "      <td>6440</td>\n",
       "      <td>56370</td>\n",
       "      <td>841</td>\n",
       "      <td>QSO</td>\n",
       "      <td>QSO</td>\n",
       "      <td>1</td>\n",
       "      <td>2.298234</td>\n",
       "      <td>...</td>\n",
       "      <td>19.591883</td>\n",
       "      <td>150.480591</td>\n",
       "      <td>19.665321</td>\n",
       "      <td>13.283602</td>\n",
       "      <td>18.983292</td>\n",
       "      <td>16.601099</td>\n",
       "      <td>0.028089</td>\n",
       "      <td>spec-6440-56370-0841.fits</td>\n",
       "      <td>/store/public/databases/sdss_sample/new_eboss/</td>\n",
       "      <td>/store/public/databases/sdss_sample/new_eboss/...</td>\n",
       "    </tr>\n",
       "  </tbody>\n",
       "</table>\n",
       "<p>100 rows × 174 columns</p>\n",
       "</div>"
      ],
      "text/plain": [
       "                 SDSS_NAME          RA        DEC  PLATE    MJD  FIBERID  \\\n",
       "166632  080406.83+272126.7  121.028478  27.357431   4458  55536      808   \n",
       "663067  214836.71-005920.4  327.152993  -0.989025   9228  58014      106   \n",
       "514480  141619.88-014534.1  214.082869  -1.759481    916  52378      635   \n",
       "272335  095234.95+123541.9  148.145664  12.594995   5323  55957      318   \n",
       "664200  215120.33+271951.4  327.834724  27.330952   7641  57307      855   \n",
       "...                    ...         ...        ...    ...    ...      ...   \n",
       "561865  151155.98+460914.1  227.983274  46.153936   8514  58174      490   \n",
       "399659  120734.46+380553.1  181.893618  38.098105   4700  55709      244   \n",
       "663324  214917.93-004357.9  327.324719  -0.732751   9230  58021      690   \n",
       "733803  233948.47+220847.6  354.951993  22.146580   7601  56959      826   \n",
       "349122  111228.51+325140.3  168.118808  32.861206   6440  56370      841   \n",
       "\n",
       "       AUTOCLASS_PQN AUTOCLASS_DR14Q  IS_QSO_QN      Z_QN  ...  GAIA_G_MAG  \\\n",
       "166632           QSO             QSO          1  1.346132  ...   17.465195   \n",
       "663067           QSO             QSO          1  1.183419  ...   19.698389   \n",
       "514480           UNK             UNK         -1 -1.000000  ...   18.618336   \n",
       "272335           QSO             QSO          1  1.426202  ...   17.788284   \n",
       "664200           QSO             QSO          1  1.794087  ...   19.261457   \n",
       "...              ...             ...        ...       ...  ...         ...   \n",
       "561865           QSO             QSO          1  1.666431  ...   18.956078   \n",
       "399659           QSO             QSO          1  0.755066  ...   18.911100   \n",
       "663324           QSO             QSO          1  2.143281  ...   19.555309   \n",
       "733803           QSO             QSO          1  1.710395  ...   18.965899   \n",
       "349122           QSO             QSO          1  2.298234  ...   19.591883   \n",
       "\n",
       "        GAIA_G_FLUX_SNR  GAIA_BP_MAG  GAIA_BP_FLUX_SNR  GAIA_RP_MAG  \\\n",
       "166632       524.921570    17.581177         63.830906    17.079052   \n",
       "663067       127.904053    19.742140         34.580616    19.203074   \n",
       "514480       144.326172    18.750271         24.499502    18.208277   \n",
       "272335       255.490005    17.979506         29.856512    17.385979   \n",
       "664200       192.667038    19.533079         20.729862    18.788317   \n",
       "...                 ...          ...               ...          ...   \n",
       "561865       207.725494    19.044037         28.374559    18.609215   \n",
       "399659       155.320190    18.914886         16.889267    18.493448   \n",
       "663324        91.096985    19.583582         12.425703    19.017656   \n",
       "733803       431.516113    19.203064         32.911995    18.458385   \n",
       "349122       150.480591    19.665321         13.283602    18.983292   \n",
       "\n",
       "        GAIA_RP_FLUX_SNR  SDSS2GAIA_SEP                   Filename  \\\n",
       "166632         92.832962       0.045761  spec-4458-55536-0808.fits   \n",
       "663067         12.337807       0.062320  spec-9228-58014-0106.fits   \n",
       "514480         28.670298       0.053476  spec-0916-52378-0635.fits   \n",
       "272335         87.504852       0.048174  spec-5323-55957-0318.fits   \n",
       "664200         15.901441       0.033862  spec-7641-57307-0855.fits   \n",
       "...                  ...            ...                        ...   \n",
       "561865         44.770523       0.019557  spec-8514-58174-0490.fits   \n",
       "399659         22.395313       0.055926  spec-4700-55709-0244.fits   \n",
       "663324         16.858231       0.072496  spec-9230-58021-0690.fits   \n",
       "733803         64.924171       0.058815  spec-7601-56959-0826.fits   \n",
       "349122         16.601099       0.028089  spec-6440-56370-0841.fits   \n",
       "\n",
       "                                              basepath  \\\n",
       "166632  /store/public/databases/sdss_sample/new_eboss/   \n",
       "663067  /store/public/databases/sdss_sample/new_eboss/   \n",
       "514480   /store/public/databases/sdss_sample/old_sdss/   \n",
       "272335  /store/public/databases/sdss_sample/new_eboss/   \n",
       "664200  /store/public/databases/sdss_sample/new_eboss/   \n",
       "...                                                ...   \n",
       "561865  /store/public/databases/sdss_sample/new_eboss/   \n",
       "399659  /store/public/databases/sdss_sample/new_eboss/   \n",
       "663324  /store/public/databases/sdss_sample/new_eboss/   \n",
       "733803  /store/public/databases/sdss_sample/new_eboss/   \n",
       "349122  /store/public/databases/sdss_sample/new_eboss/   \n",
       "\n",
       "                                                 fullpath  \n",
       "166632  /store/public/databases/sdss_sample/new_eboss/...  \n",
       "663067  /store/public/databases/sdss_sample/new_eboss/...  \n",
       "514480  /store/public/databases/sdss_sample/old_sdss/s...  \n",
       "272335  /store/public/databases/sdss_sample/new_eboss/...  \n",
       "664200  /store/public/databases/sdss_sample/new_eboss/...  \n",
       "...                                                   ...  \n",
       "561865  /store/public/databases/sdss_sample/new_eboss/...  \n",
       "399659  /store/public/databases/sdss_sample/new_eboss/...  \n",
       "663324  /store/public/databases/sdss_sample/new_eboss/...  \n",
       "733803  /store/public/databases/sdss_sample/new_eboss/...  \n",
       "349122  /store/public/databases/sdss_sample/new_eboss/...  \n",
       "\n",
       "[100 rows x 174 columns]"
      ]
     },
     "execution_count": 23,
     "metadata": {},
     "output_type": "execute_result"
    }
   ],
   "source": [
    "df"
   ]
  },
  {
   "cell_type": "markdown",
   "id": "84a39120",
   "metadata": {},
   "source": [
    "### Use the same `spectransform` function for preprocessing "
   ]
  }
 ],
 "metadata": {
  "kernelspec": {
   "display_name": "Python 3 (ipykernel)",
   "language": "python",
   "name": "python3"
  },
  "language_info": {
   "codemirror_mode": {
    "name": "ipython",
    "version": 3
   },
   "file_extension": ".py",
   "mimetype": "text/x-python",
   "name": "python",
   "nbconvert_exporter": "python",
   "pygments_lexer": "ipython3",
   "version": "3.9.12"
  }
 },
 "nbformat": 4,
 "nbformat_minor": 5
}
