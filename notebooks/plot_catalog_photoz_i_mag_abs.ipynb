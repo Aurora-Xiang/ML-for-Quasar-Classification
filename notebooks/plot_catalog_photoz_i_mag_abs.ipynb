{
 "cells": [
  {
   "cell_type": "code",
   "execution_count": 1,
   "metadata": {
    "ExecuteTime": {
     "end_time": "2022-05-23T16:15:23.837921Z",
     "start_time": "2022-05-23T16:15:21.620166Z"
    }
   },
   "outputs": [],
   "source": [
    "#! /usr/bin/env python\n",
    "%matplotlib inline\n",
    "import healpy as hp\n",
    "import numpy as np\n",
    "import matplotlib.pyplot as plt\n",
    "import pandas as pd\n",
    "from astropy_healpix import HEALPix\n",
    "from astropy.coordinates import Galactic\n",
    "from astropy.coordinates import SkyCoord\n",
    "import astropy.units as u\n",
    "from matplotlib import pylab\n",
    "from astropy.table import Table\n",
    "from scipy.stats import gaussian_kde\n",
    "from dustmaps.planck import PlanckQuery\n",
    "import matplotlib as mpl\n",
    "from mpl_toolkits.axes_grid1 import make_axes_locatable\n",
    "import matplotlib.patheffects as pe\n",
    "from astropy.io import ascii"
   ]
  },
  {
   "cell_type": "code",
   "execution_count": 2,
   "metadata": {
    "ExecuteTime": {
     "end_time": "2022-05-23T16:15:23.911134Z",
     "start_time": "2022-05-23T16:15:23.840155Z"
    }
   },
   "outputs": [],
   "source": [
    "from sklearn.neighbors import KernelDensity\n",
    "def kde2D(x, y, bandwidth, xbins=100j, ybins=100j, **kwargs): \n",
    "    \"\"\"Build 2D kernel density estimate (KDE).\"\"\"\n",
    "\n",
    "    # create grid of sample locations (default: 100x100)\n",
    "    xx, yy = np.mgrid[x.min():x.max():xbins, \n",
    "                      y.min():y.max():ybins]\n",
    "\n",
    "    xy_sample = np.vstack([yy.ravel(), xx.ravel()]).T\n",
    "    xy_train  = np.vstack([y, x]).T\n",
    "\n",
    "    kde_skl = KernelDensity(bandwidth=bandwidth, **kwargs)\n",
    "    kde_skl.fit(xy_train)\n",
    "\n",
    "    # score_samples() returns the log-likelihood of the samples\n",
    "    z = np.exp(kde_skl.score_samples(xy_sample))\n",
    "    return xx, yy, np.reshape(z, xx.shape)  "
   ]
  },
  {
   "cell_type": "code",
   "execution_count": 3,
   "metadata": {
    "ExecuteTime": {
     "end_time": "2022-05-23T16:15:23.936894Z",
     "start_time": "2022-05-23T16:15:23.912542Z"
    }
   },
   "outputs": [],
   "source": [
    "def ips2isdss_a(gr, ip1):\n",
    "    x = gr\n",
    "    a0 = -0.005\n",
    "    a1 = 0.011\n",
    "    a2 = 0.010\n",
    "    y = a0 + a1*x + a2*(x**2)\n",
    "    isdss = y + ip1\n",
    "    return isdss"
   ]
  },
  {
   "cell_type": "code",
   "execution_count": 4,
   "metadata": {
    "ExecuteTime": {
     "end_time": "2022-05-23T16:15:24.020671Z",
     "start_time": "2022-05-23T16:15:23.940420Z"
    }
   },
   "outputs": [],
   "source": [
    "def ips2isdss_b(gr, ip1):\n",
    "    x = gr\n",
    "    b0 = -0.004\n",
    "    b1 = 0.020\n",
    "    y = b0 + b1*x\n",
    "    isdss = y + ip1\n",
    "    return isdss"
   ]
  },
  {
   "cell_type": "code",
   "execution_count": 5,
   "metadata": {
    "ExecuteTime": {
     "end_time": "2022-05-23T16:15:24.122087Z",
     "start_time": "2022-05-23T16:15:24.023228Z"
    }
   },
   "outputs": [],
   "source": [
    "SMALL_SIZE = 16\n",
    "MEDIUM_SIZE = 18\n",
    "BIGGER_SIZE = 20\n",
    "\n",
    "plt.rc('font', size=SMALL_SIZE, family='serif')    # controls default text sizes\n",
    "plt.rc('axes', titlesize=SMALL_SIZE)     # fontsize of the axes title\n",
    "plt.rc('axes', labelsize=MEDIUM_SIZE)    # fontsize of the x and y labels\n",
    "plt.rc('xtick', labelsize=SMALL_SIZE)    # fontsize of the tick labels\n",
    "plt.rc('ytick', labelsize=SMALL_SIZE)    # fontsize of the tick labels\n",
    "plt.rc('legend', fontsize=SMALL_SIZE)    # legend fontsize\n",
    "plt.rc('figure', titlesize=BIGGER_SIZE)  # fontsize of the figure title\n",
    "\n",
    "import matplotlib\n",
    "matplotlib.rcParams['mathtext.fontset'] = 'stix'\n",
    "matplotlib.rcParams['font.serif'] = ['Times New Roman']"
   ]
  },
  {
   "cell_type": "code",
   "execution_count": 6,
   "metadata": {
    "ExecuteTime": {
     "end_time": "2022-05-23T16:15:24.234192Z",
     "start_time": "2022-05-23T16:15:24.124536Z"
    }
   },
   "outputs": [],
   "source": [
    "ktb = Table.read('./kcorrect_richards_2006_tb4.txt', format='ascii.cds')"
   ]
  },
  {
   "cell_type": "code",
   "execution_count": 7,
   "metadata": {
    "ExecuteTime": {
     "end_time": "2022-05-23T16:15:24.320293Z",
     "start_time": "2022-05-23T16:15:24.236693Z"
    }
   },
   "outputs": [
    {
     "data": {
      "text/html": [
       "<div><i>Table length=550</i>\n",
       "<table id=\"table140246458883984\" class=\"table-striped table-bordered table-condensed\">\n",
       "<thead><tr><th>z</th><th>KCorr</th></tr></thead>\n",
       "<thead><tr><th>float64</th><th>float64</th></tr></thead>\n",
       "<tr><td>0.0</td><td>0.596</td></tr>\n",
       "<tr><td>0.01</td><td>0.587</td></tr>\n",
       "<tr><td>0.02</td><td>0.569</td></tr>\n",
       "<tr><td>0.03</td><td>0.531</td></tr>\n",
       "<tr><td>0.04</td><td>0.462</td></tr>\n",
       "<tr><td>0.05</td><td>0.372</td></tr>\n",
       "<tr><td>0.06</td><td>0.268</td></tr>\n",
       "<tr><td>0.07</td><td>0.203</td></tr>\n",
       "<tr><td>0.08</td><td>0.17</td></tr>\n",
       "<tr><td>...</td><td>...</td></tr>\n",
       "<tr><td>5.4</td><td>-0.312</td></tr>\n",
       "<tr><td>5.41</td><td>-0.309</td></tr>\n",
       "<tr><td>5.42</td><td>-0.303</td></tr>\n",
       "<tr><td>5.43</td><td>-0.299</td></tr>\n",
       "<tr><td>5.44</td><td>-0.295</td></tr>\n",
       "<tr><td>5.45</td><td>-0.29</td></tr>\n",
       "<tr><td>5.46</td><td>-0.285</td></tr>\n",
       "<tr><td>5.47</td><td>-0.28</td></tr>\n",
       "<tr><td>5.48</td><td>-0.275</td></tr>\n",
       "<tr><td>5.49</td><td>-0.269</td></tr>\n",
       "</table></div>"
      ],
      "text/plain": [
       "<Table length=550>\n",
       "   z     KCorr \n",
       "float64 float64\n",
       "------- -------\n",
       "    0.0   0.596\n",
       "   0.01   0.587\n",
       "   0.02   0.569\n",
       "   0.03   0.531\n",
       "   0.04   0.462\n",
       "   0.05   0.372\n",
       "   0.06   0.268\n",
       "   0.07   0.203\n",
       "   0.08    0.17\n",
       "    ...     ...\n",
       "    5.4  -0.312\n",
       "   5.41  -0.309\n",
       "   5.42  -0.303\n",
       "   5.43  -0.299\n",
       "   5.44  -0.295\n",
       "   5.45   -0.29\n",
       "   5.46  -0.285\n",
       "   5.47   -0.28\n",
       "   5.48  -0.275\n",
       "   5.49  -0.269"
      ]
     },
     "execution_count": 7,
     "metadata": {},
     "output_type": "execute_result"
    }
   ],
   "source": [
    "ktb"
   ]
  },
  {
   "cell_type": "code",
   "execution_count": 8,
   "metadata": {
    "ExecuteTime": {
     "end_time": "2022-05-23T16:15:24.404061Z",
     "start_time": "2022-05-23T16:15:24.322626Z"
    }
   },
   "outputs": [],
   "source": [
    "from scipy import interpolate\n",
    "K_correct = interpolate.interp1d(ktb['z'], ktb['KCorr'])"
   ]
  },
  {
   "cell_type": "code",
   "execution_count": 9,
   "metadata": {
    "ExecuteTime": {
     "end_time": "2022-05-23T16:15:25.854591Z",
     "start_time": "2022-05-23T16:15:24.407823Z"
    }
   },
   "outputs": [
    {
     "name": "stderr",
     "output_type": "stream",
     "text": [
      "/home/yuming/anaconda3/lib/python3.7/site-packages/IPython/core/interactiveshell.py:3444: DtypeWarning: Columns (59,60) have mixed types.Specify dtype option on import or set low_memory=False.\n",
      "  exec(code_obj, self.user_global_ns, self.user_ns)\n"
     ]
    }
   ],
   "source": [
    "df = pd.read_csv('/home/yuming/astro/format_catalog/GPQC_catalog_v1c.csv')"
   ]
  },
  {
   "cell_type": "code",
   "execution_count": 10,
   "metadata": {
    "ExecuteTime": {
     "end_time": "2022-05-23T16:15:25.873935Z",
     "start_time": "2022-05-23T16:15:25.856841Z"
    }
   },
   "outputs": [],
   "source": [
    "df['i_sdss'] = ips2isdss_a(df['gmag']-df['rmag'], df['imag'])\n",
    "df['i_ori'] = df['i_sdss'] - df['ebv']*0.630*3.1\n",
    "df['kcorr'] = K_correct(df['photoz'])"
   ]
  },
  {
   "cell_type": "code",
   "execution_count": 11,
   "metadata": {
    "ExecuteTime": {
     "end_time": "2022-05-23T16:15:25.947236Z",
     "start_time": "2022-05-23T16:15:25.875607Z"
    }
   },
   "outputs": [
    {
     "data": {
      "text/plain": [
       "0         20.018256\n",
       "1         19.243599\n",
       "2         17.118620\n",
       "3         19.666791\n",
       "4         19.915188\n",
       "            ...    \n",
       "160941    20.027319\n",
       "160942    19.572541\n",
       "160943    19.947298\n",
       "160944    20.184453\n",
       "160945    19.858976\n",
       "Name: i_ori, Length: 160946, dtype: float64"
      ]
     },
     "execution_count": 11,
     "metadata": {},
     "output_type": "execute_result"
    }
   ],
   "source": [
    "df['i_ori']"
   ]
  },
  {
   "cell_type": "code",
   "execution_count": 12,
   "metadata": {
    "ExecuteTime": {
     "end_time": "2022-05-23T16:15:26.205232Z",
     "start_time": "2022-05-23T16:15:26.184368Z"
    }
   },
   "outputs": [],
   "source": [
    "from astropy.cosmology import LambdaCDM\n",
    "cosmo = LambdaCDM(H0=70, Om0=0.3, Ode0=0.7)"
   ]
  },
  {
   "cell_type": "code",
   "execution_count": 13,
   "metadata": {
    "ExecuteTime": {
     "end_time": "2022-05-23T16:15:27.433664Z",
     "start_time": "2022-05-23T16:15:27.218883Z"
    }
   },
   "outputs": [],
   "source": [
    "df['iabs'] = df['i_ori']-cosmo.distmod(df['photoz']).value-df['kcorr']"
   ]
  },
  {
   "cell_type": "code",
   "execution_count": 14,
   "metadata": {
    "ExecuteTime": {
     "end_time": "2022-05-23T16:15:39.018883Z",
     "start_time": "2022-05-23T16:15:27.901459Z"
    }
   },
   "outputs": [],
   "source": [
    "ka = kde2D(df['photoz'], df['iabs'], 0.05)"
   ]
  },
  {
   "cell_type": "code",
   "execution_count": 15,
   "metadata": {
    "ExecuteTime": {
     "end_time": "2022-05-23T16:15:39.044719Z",
     "start_time": "2022-05-23T16:15:39.021690Z"
    }
   },
   "outputs": [],
   "source": [
    "df1 = pd.read_csv(\"/home/yuming/astro/spec_fit/fit_gpqs/combined/fitted_gpq_basev21_filledPS1.csv\")"
   ]
  },
  {
   "cell_type": "code",
   "execution_count": 16,
   "metadata": {
    "ExecuteTime": {
     "end_time": "2022-05-23T16:15:39.126645Z",
     "start_time": "2022-05-23T16:15:39.046106Z"
    }
   },
   "outputs": [],
   "source": [
    "coords = SkyCoord(ra=df1.ra.values*u.deg, \n",
    "                  dec=df1.dec.values*u.deg,\n",
    "                  frame='icrs')"
   ]
  },
  {
   "cell_type": "code",
   "execution_count": 17,
   "metadata": {
    "ExecuteTime": {
     "end_time": "2022-05-23T16:15:40.069941Z",
     "start_time": "2022-05-23T16:15:39.129371Z"
    }
   },
   "outputs": [],
   "source": [
    "planck = PlanckQuery()"
   ]
  },
  {
   "cell_type": "code",
   "execution_count": 18,
   "metadata": {
    "ExecuteTime": {
     "end_time": "2022-05-23T16:15:40.079481Z",
     "start_time": "2022-05-23T16:15:40.071699Z"
    }
   },
   "outputs": [],
   "source": [
    "ebv1 = planck(coords)"
   ]
  },
  {
   "cell_type": "code",
   "execution_count": 19,
   "metadata": {
    "ExecuteTime": {
     "end_time": "2022-05-23T16:15:40.237250Z",
     "start_time": "2022-05-23T16:15:40.080713Z"
    }
   },
   "outputs": [],
   "source": [
    "df1['i_sdss'] = ips2isdss_a(df1['gmag']-df1['rmag'], df1['imag'])\n",
    "df1['i_ori'] = df1['i_sdss'] - ebv1*0.630*3.1\n",
    "df1['kcorr'] = K_correct(df1['redshift'])"
   ]
  },
  {
   "cell_type": "code",
   "execution_count": 20,
   "metadata": {
    "ExecuteTime": {
     "end_time": "2022-05-23T16:15:40.318269Z",
     "start_time": "2022-05-23T16:15:40.239358Z"
    }
   },
   "outputs": [],
   "source": [
    "df1['iabs'] = df1['i_ori']-cosmo.distmod(df1['redshift']).value-df1['kcorr']"
   ]
  },
  {
   "cell_type": "code",
   "execution_count": 21,
   "metadata": {
    "ExecuteTime": {
     "end_time": "2022-05-23T16:15:41.356845Z",
     "start_time": "2022-05-23T16:15:40.320824Z"
    }
   },
   "outputs": [],
   "source": [
    "from scipy.stats import gaussian_kde\n",
    "\n",
    "#KDE for top marginal\n",
    "kde_X = gaussian_kde(df['photoz'])\n",
    "#KDE for right marginal\n",
    "kde_Y = gaussian_kde(df['iabs'])\n",
    "#KDE for contour plot\n",
    "# kde_XY = gaussian_kde(data)\n",
    "\n",
    "xmin, ymin = df['photoz'].min(), -32\n",
    "xmax, ymax = df['photoz'].max(), -19\n",
    "\n",
    "# Create two 1D grid with 100 points in each dimension\n",
    "x = np.linspace(xmin, xmax, 100)\n",
    "y = np.linspace(ymin, ymax, 100)\n",
    "\n",
    "# Create a regular 2D grid with 100 points in each dimension\n",
    "xi, yi = np.mgrid[xmin:xmax:100j, ymin:ymax:100j]\n",
    "coords = np.vstack([item.ravel() for item in [xi, yi]])\n",
    "\n",
    "# # Evaluate the KDEs on a 1D grid\n",
    "dx = kde_X(x) # X-marginal density\n",
    "dy = kde_Y(y) # Y-marginal density\n",
    "\n",
    "# dx = np.sqrt(kde_X(x)) # X-marginal density\n",
    "# dy = np.sqrt(kde_Y(y)) # Y-marginal density"
   ]
  },
  {
   "cell_type": "code",
   "execution_count": 22,
   "metadata": {
    "ExecuteTime": {
     "end_time": "2022-05-23T16:15:45.252346Z",
     "start_time": "2022-05-23T16:15:41.358535Z"
    },
    "scrolled": false
   },
   "outputs": [
    {
     "data": {
      "image/png": "[encoded data removed]",
      "text/plain": [
       "<Figure size 576x432 with 4 Axes>"
      ]
     },
     "metadata": {
      "needs_background": "light"
     },
     "output_type": "display_data"
    }
   ],
   "source": [
    "from matplotlib import gridspec\n",
    "from mpl_toolkits.axes_grid1.inset_locator import inset_axes\n",
    "from matplotlib.colors import LogNorm\n",
    "\n",
    "# gs = gridspec.GridSpec(2, 2, width_ratios=[3, 1], height_ratios = [1, 3])\n",
    "gs = gridspec.GridSpec(2, 2,\n",
    "                       width_ratios=[3, 1],\n",
    "                       height_ratios=[1,4],\n",
    "                       wspace=0.05,\n",
    "                       hspace=0.05)\n",
    "\n",
    "fig = plt.figure(figsize=(8, 6))\n",
    "ax = plt.subplot(gs[1, 0])\n",
    "\n",
    "histax = ax.hist2d(df['photoz'],df['iabs'],\n",
    "                bins=100,\n",
    "                range=[[0,4.95],[-32,-19]],\n",
    "                norm=LogNorm(),\n",
    "                cmap='Blues',\n",
    "                rasterized=True,\n",
    "                label='GPQ candidate catalog')\n",
    "\n",
    "levels = [0.05, 0.15, 0.3]\n",
    "CS = ax.contour(ka[0], ka[1], ka[2], \n",
    "        levels=levels,\n",
    "        colors=('w',),\n",
    "        linewidths=(2.5,))\n",
    "clbls = ax.clabel(CS, fmt='%.2f', \n",
    "                  colors='k', inline=False, fontsize=14,\n",
    "                  use_clabeltext=True)\n",
    "plt.setp(clbls, path_effects=[pe.withStroke(linewidth=5,\n",
    "                                            foreground=\"w\")])\n",
    "\n",
    "line1, = ax.plot(df1['redshift'], \n",
    "                 df1['iabs'], \n",
    "                 ls='',\n",
    "                 marker='^', \n",
    "                 mfc='C1',\n",
    "                 mec='k',\n",
    "                 ms=9,\n",
    "                 mew=0.8,\n",
    "                 label='Identified GPQs in this work')\n",
    "ax.set_xlabel('Redshift')\n",
    "ax.set_ylabel('$\\mathrm{M}_{i} (z=2)$')\n",
    "axr = plt.subplot(gs[1,1], \n",
    "                  sharey = ax, \n",
    "#                   xlim = (0, 1.1*dy.max()), \n",
    "                  ylim=(-19, -32.5)\n",
    "                 )\n",
    "# axr.set_ylim(0,0.8)\n",
    "axr.plot(dy, y, color = 'black')\n",
    "axr.fill_betweenx(y, 0, dy, alpha=0.4, color = 'C0')\n",
    "axr.hist(df1['iabs'], bins=40, alpha=1, density=True,\n",
    "         histtype='bar', color='C1',\n",
    "         edgecolor='k', orientation='horizontal');\n",
    "axr.minorticks_on()\n",
    "axr.set_xticks([0,0.2])\n",
    "axr.set_xticklabels(['0','0.2'])\n",
    "\n",
    "#Create X-marginal (top)\n",
    "axt = plt.subplot(gs[0,0], \n",
    "                  sharex = ax, \n",
    "#                   xlim = (xmin, xmax), \n",
    "#                   ylim=(0, 1.1*dx.max())\n",
    "                 )\n",
    "axt.plot(x, dx, color = 'black')\n",
    "axt.fill_between(x, 0, dx, alpha=0.4, color = 'C0')\n",
    "axt.hist(df1['redshift'], bins=60, alpha=1, density=True,\n",
    "         histtype='bar', color='C1',\n",
    "         edgecolor='k');\n",
    "axt.minorticks_on()\n",
    "axt.set_yticks([0,0.5])\n",
    "axt.set_yticklabels(['0','0.5'])\n",
    "# axt.grid(ls='--',which='major')\n",
    "\n",
    "plt.setp(axr.get_yticklabels(), visible=False);\n",
    "plt.setp(axt.get_xticklabels(), visible=False);\n",
    "# fig.tight_layout(pad = 0)\n",
    "# fig.tight_layout(pad=0.1)\n",
    "\n",
    "# # Set labels on marginals\n",
    "# axr.set_xlabel('$PDF$')\n",
    "# axt.set_ylabel('$PDF$')\n",
    "\n",
    "axins1 = inset_axes(ax,\n",
    "                    width=\"50%\",  # width = 50% of parent_bbox width\n",
    "                    height=\"3%\",  # height : 5%\n",
    "                    loc=3)\n",
    "fig.colorbar(histax[3], \n",
    "             cax=axins1, \n",
    "             orientation=\"horizontal\",\n",
    "             ticks=[0,10,100]\n",
    "            )\n",
    "axins1.xaxis.set_ticks_position(\"top\")\n",
    "axins1.set_xticklabels(['0','10','100']);  # horizontal colorbar\n",
    "# axins1.set_xlabel('Count')\n",
    "ax.legend(loc=4, bbox_to_anchor=(1,0.15))\n",
    "plt.savefig('gpq2_joint_z_absimag.pdf',\n",
    "            bbox_inches='tight',\n",
    "            dpi=300)\n",
    "plt.savefig('gpq2_joint_z_absimag.jpg',bbox_inches='tight',dpi=300)"
   ]
  },
  {
   "cell_type": "code",
   "execution_count": 23,
   "metadata": {
    "ExecuteTime": {
     "end_time": "2022-05-23T16:15:45.338463Z",
     "start_time": "2022-05-23T16:15:45.256634Z"
    }
   },
   "outputs": [],
   "source": [
    "df1.to_csv(\"/home/yuming/astro/spec_fit/fit_gpqs/combined/fitted_gpq_basev21_filledPS1_mi.csv\", index=False)"
   ]
  },
  {
   "cell_type": "code",
   "execution_count": 24,
   "metadata": {
    "ExecuteTime": {
     "end_time": "2022-02-27T09:42:37.433976Z",
     "start_time": "2022-02-27T09:42:36.504390Z"
    }
   },
   "outputs": [
    {
     "data": {
      "image/png": "[encoded data removed]",
      "text/plain": [
       "<Figure size 432x288 with 1 Axes>"
      ]
     },
     "metadata": {
      "needs_background": "light"
     },
     "output_type": "display_data"
    }
   ],
   "source": [
    "plt.figure()\n",
    "plt.hist(df['imag'], \n",
    "         bins=40, \n",
    "         alpha=0.7, \n",
    "         density=True,\n",
    "         histtype='stepfilled', \n",
    "         color='C0',\n",
    "#          edgecolor='k',\n",
    "         label='The GPQ candidate catalog');\n",
    "plt.hist(df1['imag'], \n",
    "         bins=30, \n",
    "         alpha=0.6, \n",
    "         density=True,\n",
    "         histtype='bar', \n",
    "         color='C1',\n",
    "         edgecolor='k',\n",
    "         label='Identified GPQs in this work');\n",
    "plt.minorticks_on()\n",
    "plt.ylim([0,1])\n",
    "plt.xlim([15,22])\n",
    "plt.legend(fontsize=14)\n",
    "plt.xlabel('$i_{P1}$ (mag)');\n",
    "plt.ylabel('Density');\n",
    "plt.savefig('gpq2_hist_apimag.pdf',\n",
    "            bbox_inches='tight')\n",
    "plt.savefig('gpq2_hist_apimag.jpg',bbox_inches='tight',dpi=300)"
   ]
  },
  {
   "cell_type": "code",
   "execution_count": 31,
   "metadata": {
    "ExecuteTime": {
     "end_time": "2022-02-27T09:45:16.313348Z",
     "start_time": "2022-02-27T09:45:14.570274Z"
    }
   },
   "outputs": [
    {
     "data": {
      "image/png": "[encoded data removed]",
      "text/plain": [
       "<Figure size 432x288 with 1 Axes>"
      ]
     },
     "metadata": {
      "needs_background": "light"
     },
     "output_type": "display_data"
    }
   ],
   "source": [
    "plt.figure()\n",
    "plt.hist(df['imag'], \n",
    "         bins=40, \n",
    "         alpha=0.7, \n",
    "         log=True,\n",
    "         histtype='stepfilled', \n",
    "         color='C0',\n",
    "#          edgecolor='k',\n",
    "         label='The GPQ candidate catalog');\n",
    "plt.hist(df1['imag'], \n",
    "         bins=30, \n",
    "         alpha=0.6, \n",
    "         log=True,\n",
    "         histtype='bar', \n",
    "         color='C1',\n",
    "         edgecolor='k',\n",
    "         label='Identified GPQs in this work');\n",
    "plt.minorticks_on()\n",
    "plt.xlim([14,22.5])\n",
    "plt.legend(loc=2,fontsize=14)\n",
    "plt.xlabel('$i_{P1}$ (mag)');\n",
    "plt.ylabel('Number');\n",
    "plt.savefig('gpq2_hist_apimag_log.pdf',\n",
    "            bbox_inches='tight')\n",
    "plt.savefig('gpq2_hist_apimag_log.jpg',bbox_inches='tight',dpi=300)"
   ]
  },
  {
   "cell_type": "code",
   "execution_count": 36,
   "metadata": {
    "ExecuteTime": {
     "end_time": "2022-03-09T08:25:19.574001Z",
     "start_time": "2022-03-09T08:25:19.565755Z"
    }
   },
   "outputs": [
    {
     "data": {
      "text/plain": [
       "0.3420201433256687"
      ]
     },
     "execution_count": 36,
     "metadata": {},
     "output_type": "execute_result"
    }
   ],
   "source": [
    "np.sin(np.deg2rad(20))*2/2"
   ]
  },
  {
   "cell_type": "code",
   "execution_count": 38,
   "metadata": {
    "ExecuteTime": {
     "end_time": "2022-03-09T08:29:14.957876Z",
     "start_time": "2022-03-09T08:29:14.950985Z"
    }
   },
   "outputs": [
    {
     "data": {
      "text/plain": [
       "0.3420190939025951"
      ]
     },
     "execution_count": 38,
     "metadata": {},
     "output_type": "execute_result"
    }
   ],
   "source": [
    "14109.3/(20626.48*2)"
   ]
  },
  {
   "cell_type": "code",
   "execution_count": null,
   "metadata": {},
   "outputs": [],
   "source": []
  }
 ],
 "metadata": {
  "kernelspec": {
   "display_name": "Python 3 (ipykernel)",
   "language": "python",
   "name": "python3"
  },
  "language_info": {
   "codemirror_mode": {
    "name": "ipython",
    "version": 3
   },
   "file_extension": ".py",
   "mimetype": "text/x-python",
   "name": "python",
   "nbconvert_exporter": "python",
   "pygments_lexer": "ipython3",
   "version": "3.9.12"
  }
 },
 "nbformat": 4,
 "nbformat_minor": 2
}
